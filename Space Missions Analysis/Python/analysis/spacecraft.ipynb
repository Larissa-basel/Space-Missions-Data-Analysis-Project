{
 "cells": [
  {
   "cell_type": "code",
   "execution_count": 2,
   "id": "4e4e7a5f",
   "metadata": {},
   "outputs": [],
   "source": [
    "import pandas as pd\n",
    "import plotly.express as px"
   ]
  },
  {
   "cell_type": "code",
   "execution_count": null,
   "id": "bc069c4b",
   "metadata": {},
   "outputs": [
    {
     "data": {
      "text/html": [
       "<div>\n",
       "<style scoped>\n",
       "    .dataframe tbody tr th:only-of-type {\n",
       "        vertical-align: middle;\n",
       "    }\n",
       "\n",
       "    .dataframe tbody tr th {\n",
       "        vertical-align: top;\n",
       "    }\n",
       "\n",
       "    .dataframe thead th {\n",
       "        text-align: right;\n",
       "    }\n",
       "</style>\n",
       "<table border=\"1\" class=\"dataframe\">\n",
       "  <thead>\n",
       "    <tr style=\"text-align: right;\">\n",
       "      <th></th>\n",
       "      <th>Spacecraft_id</th>\n",
       "      <th>Spacecraft_name</th>\n",
       "      <th>Manufacturer</th>\n",
       "      <th>Type</th>\n",
       "      <th>Cost_million_usd</th>\n",
       "      <th>first_launch_year</th>\n",
       "      <th>Mission_id</th>\n",
       "    </tr>\n",
       "  </thead>\n",
       "  <tbody>\n",
       "    <tr>\n",
       "      <th>0</th>\n",
       "      <td>1</td>\n",
       "      <td>HTV Kounotori</td>\n",
       "      <td>JAXA</td>\n",
       "      <td>Rocket</td>\n",
       "      <td>981.03</td>\n",
       "      <td>1963</td>\n",
       "      <td>1</td>\n",
       "    </tr>\n",
       "    <tr>\n",
       "      <th>1</th>\n",
       "      <td>2</td>\n",
       "      <td>HTV-X</td>\n",
       "      <td>Mitsubishi Heavy Industries</td>\n",
       "      <td>Space Telescope</td>\n",
       "      <td>559.02</td>\n",
       "      <td>1987</td>\n",
       "      <td>1</td>\n",
       "    </tr>\n",
       "    <tr>\n",
       "      <th>2</th>\n",
       "      <td>3</td>\n",
       "      <td>HTV-X</td>\n",
       "      <td>Mitsubishi Heavy Industries</td>\n",
       "      <td>Space Telescope</td>\n",
       "      <td>605.44</td>\n",
       "      <td>2015</td>\n",
       "      <td>2</td>\n",
       "    </tr>\n",
       "    <tr>\n",
       "      <th>3</th>\n",
       "      <td>4</td>\n",
       "      <td>H-II Transfer Vehicle</td>\n",
       "      <td>Mitsubishi Heavy Industries</td>\n",
       "      <td>Satellite</td>\n",
       "      <td>1798.24</td>\n",
       "      <td>1987</td>\n",
       "      <td>3</td>\n",
       "    </tr>\n",
       "    <tr>\n",
       "      <th>4</th>\n",
       "      <td>5</td>\n",
       "      <td>Orion MPCV</td>\n",
       "      <td>NASA</td>\n",
       "      <td>Space Telescope</td>\n",
       "      <td>238.60</td>\n",
       "      <td>2008</td>\n",
       "      <td>3</td>\n",
       "    </tr>\n",
       "  </tbody>\n",
       "</table>\n",
       "</div>"
      ],
      "text/plain": [
       "   Spacecraft_id        Spacecraft_name                 Manufacturer  \\\n",
       "0              1          HTV Kounotori                         JAXA   \n",
       "1              2                  HTV-X  Mitsubishi Heavy Industries   \n",
       "2              3                  HTV-X  Mitsubishi Heavy Industries   \n",
       "3              4  H-II Transfer Vehicle  Mitsubishi Heavy Industries   \n",
       "4              5             Orion MPCV                         NASA   \n",
       "\n",
       "              Type  Cost_million_usd  first_launch_year  Mission_id  \n",
       "0           Rocket            981.03               1963           1  \n",
       "1  Space Telescope            559.02               1987           1  \n",
       "2  Space Telescope            605.44               2015           2  \n",
       "3        Satellite           1798.24               1987           3  \n",
       "4  Space Telescope            238.60               2008           3  "
      ]
     },
     "execution_count": 3,
     "metadata": {},
     "output_type": "execute_result"
    }
   ],
   "source": [
    "spacecraft = pd.read_csv(\"../../Data/spacecraft.csv\")\n",
    "spacecraft.head()"
   ]
  },
  {
   "cell_type": "code",
   "execution_count": null,
   "id": "c6bc63f0",
   "metadata": {},
   "outputs": [
    {
     "data": {
      "application/vnd.plotly.v1+json": {
       "config": {
        "plotlyServerURL": "https://plot.ly"
       },
       "data": [
        {
         "hovertemplate": "Manufacturer=%{x}<br>Average Cost (Million USD)=%{y}<extra></extra>",
         "legendgroup": "",
         "marker": {
          "color": "#636efa",
          "pattern": {
           "shape": ""
          }
         },
         "name": "",
         "orientation": "v",
         "showlegend": false,
         "textposition": "auto",
         "type": "bar",
         "x": [
          "Airbus Defence and Space",
          "Blue Origin",
          "Boeing",
          "CAST",
          "ESA",
          "ISRO",
          "JAXA",
          "Lockheed Martin",
          "Mitsubishi Heavy Industries",
          "Multiple Contractors",
          "NASA",
          "Northrop Grumman",
          "Rocket Lab",
          "Roscosmos",
          "SpaceX",
          "United Launch Alliance"
         ],
         "xaxis": "x",
         "y": {
          "bdata": "exSuR+EYh0CEOqiDOvCBQFW7IYjuX5RAqTj78BkHkUC+MJkqGH6QQIwTyTiR/5FAgLdAguKpkkCwBVuwBa6QQDT9UNOv3Y9AiWdFI2EljUCGUh/sOJaRQIQ6qIM6I5JA0wY6baAFkUBZ8oslHxqPQJChssPU4Y9AkTSl4uz6k0A=",
          "dtype": "f8"
         },
         "yaxis": "y"
        }
       ],
       "layout": {
        "barmode": "relative",
        "legend": {
         "tracegroupgap": 0
        },
        "template": {
         "data": {
          "bar": [
           {
            "error_x": {
             "color": "#2a3f5f"
            },
            "error_y": {
             "color": "#2a3f5f"
            },
            "marker": {
             "line": {
              "color": "#E5ECF6",
              "width": 0.5
             },
             "pattern": {
              "fillmode": "overlay",
              "size": 10,
              "solidity": 0.2
             }
            },
            "type": "bar"
           }
          ],
          "barpolar": [
           {
            "marker": {
             "line": {
              "color": "#E5ECF6",
              "width": 0.5
             },
             "pattern": {
              "fillmode": "overlay",
              "size": 10,
              "solidity": 0.2
             }
            },
            "type": "barpolar"
           }
          ],
          "carpet": [
           {
            "aaxis": {
             "endlinecolor": "#2a3f5f",
             "gridcolor": "white",
             "linecolor": "white",
             "minorgridcolor": "white",
             "startlinecolor": "#2a3f5f"
            },
            "baxis": {
             "endlinecolor": "#2a3f5f",
             "gridcolor": "white",
             "linecolor": "white",
             "minorgridcolor": "white",
             "startlinecolor": "#2a3f5f"
            },
            "type": "carpet"
           }
          ],
          "choropleth": [
           {
            "colorbar": {
             "outlinewidth": 0,
             "ticks": ""
            },
            "type": "choropleth"
           }
          ],
          "contour": [
           {
            "colorbar": {
             "outlinewidth": 0,
             "ticks": ""
            },
            "colorscale": [
             [
              0,
              "#0d0887"
             ],
             [
              0.1111111111111111,
              "#46039f"
             ],
             [
              0.2222222222222222,
              "#7201a8"
             ],
             [
              0.3333333333333333,
              "#9c179e"
             ],
             [
              0.4444444444444444,
              "#bd3786"
             ],
             [
              0.5555555555555556,
              "#d8576b"
             ],
             [
              0.6666666666666666,
              "#ed7953"
             ],
             [
              0.7777777777777778,
              "#fb9f3a"
             ],
             [
              0.8888888888888888,
              "#fdca26"
             ],
             [
              1,
              "#f0f921"
             ]
            ],
            "type": "contour"
           }
          ],
          "contourcarpet": [
           {
            "colorbar": {
             "outlinewidth": 0,
             "ticks": ""
            },
            "type": "contourcarpet"
           }
          ],
          "heatmap": [
           {
            "colorbar": {
             "outlinewidth": 0,
             "ticks": ""
            },
            "colorscale": [
             [
              0,
              "#0d0887"
             ],
             [
              0.1111111111111111,
              "#46039f"
             ],
             [
              0.2222222222222222,
              "#7201a8"
             ],
             [
              0.3333333333333333,
              "#9c179e"
             ],
             [
              0.4444444444444444,
              "#bd3786"
             ],
             [
              0.5555555555555556,
              "#d8576b"
             ],
             [
              0.6666666666666666,
              "#ed7953"
             ],
             [
              0.7777777777777778,
              "#fb9f3a"
             ],
             [
              0.8888888888888888,
              "#fdca26"
             ],
             [
              1,
              "#f0f921"
             ]
            ],
            "type": "heatmap"
           }
          ],
          "histogram": [
           {
            "marker": {
             "pattern": {
              "fillmode": "overlay",
              "size": 10,
              "solidity": 0.2
             }
            },
            "type": "histogram"
           }
          ],
          "histogram2d": [
           {
            "colorbar": {
             "outlinewidth": 0,
             "ticks": ""
            },
            "colorscale": [
             [
              0,
              "#0d0887"
             ],
             [
              0.1111111111111111,
              "#46039f"
             ],
             [
              0.2222222222222222,
              "#7201a8"
             ],
             [
              0.3333333333333333,
              "#9c179e"
             ],
             [
              0.4444444444444444,
              "#bd3786"
             ],
             [
              0.5555555555555556,
              "#d8576b"
             ],
             [
              0.6666666666666666,
              "#ed7953"
             ],
             [
              0.7777777777777778,
              "#fb9f3a"
             ],
             [
              0.8888888888888888,
              "#fdca26"
             ],
             [
              1,
              "#f0f921"
             ]
            ],
            "type": "histogram2d"
           }
          ],
          "histogram2dcontour": [
           {
            "colorbar": {
             "outlinewidth": 0,
             "ticks": ""
            },
            "colorscale": [
             [
              0,
              "#0d0887"
             ],
             [
              0.1111111111111111,
              "#46039f"
             ],
             [
              0.2222222222222222,
              "#7201a8"
             ],
             [
              0.3333333333333333,
              "#9c179e"
             ],
             [
              0.4444444444444444,
              "#bd3786"
             ],
             [
              0.5555555555555556,
              "#d8576b"
             ],
             [
              0.6666666666666666,
              "#ed7953"
             ],
             [
              0.7777777777777778,
              "#fb9f3a"
             ],
             [
              0.8888888888888888,
              "#fdca26"
             ],
             [
              1,
              "#f0f921"
             ]
            ],
            "type": "histogram2dcontour"
           }
          ],
          "mesh3d": [
           {
            "colorbar": {
             "outlinewidth": 0,
             "ticks": ""
            },
            "type": "mesh3d"
           }
          ],
          "parcoords": [
           {
            "line": {
             "colorbar": {
              "outlinewidth": 0,
              "ticks": ""
             }
            },
            "type": "parcoords"
           }
          ],
          "pie": [
           {
            "automargin": true,
            "type": "pie"
           }
          ],
          "scatter": [
           {
            "fillpattern": {
             "fillmode": "overlay",
             "size": 10,
             "solidity": 0.2
            },
            "type": "scatter"
           }
          ],
          "scatter3d": [
           {
            "line": {
             "colorbar": {
              "outlinewidth": 0,
              "ticks": ""
             }
            },
            "marker": {
             "colorbar": {
              "outlinewidth": 0,
              "ticks": ""
             }
            },
            "type": "scatter3d"
           }
          ],
          "scattercarpet": [
           {
            "marker": {
             "colorbar": {
              "outlinewidth": 0,
              "ticks": ""
             }
            },
            "type": "scattercarpet"
           }
          ],
          "scattergeo": [
           {
            "marker": {
             "colorbar": {
              "outlinewidth": 0,
              "ticks": ""
             }
            },
            "type": "scattergeo"
           }
          ],
          "scattergl": [
           {
            "marker": {
             "colorbar": {
              "outlinewidth": 0,
              "ticks": ""
             }
            },
            "type": "scattergl"
           }
          ],
          "scattermap": [
           {
            "marker": {
             "colorbar": {
              "outlinewidth": 0,
              "ticks": ""
             }
            },
            "type": "scattermap"
           }
          ],
          "scattermapbox": [
           {
            "marker": {
             "colorbar": {
              "outlinewidth": 0,
              "ticks": ""
             }
            },
            "type": "scattermapbox"
           }
          ],
          "scatterpolar": [
           {
            "marker": {
             "colorbar": {
              "outlinewidth": 0,
              "ticks": ""
             }
            },
            "type": "scatterpolar"
           }
          ],
          "scatterpolargl": [
           {
            "marker": {
             "colorbar": {
              "outlinewidth": 0,
              "ticks": ""
             }
            },
            "type": "scatterpolargl"
           }
          ],
          "scatterternary": [
           {
            "marker": {
             "colorbar": {
              "outlinewidth": 0,
              "ticks": ""
             }
            },
            "type": "scatterternary"
           }
          ],
          "surface": [
           {
            "colorbar": {
             "outlinewidth": 0,
             "ticks": ""
            },
            "colorscale": [
             [
              0,
              "#0d0887"
             ],
             [
              0.1111111111111111,
              "#46039f"
             ],
             [
              0.2222222222222222,
              "#7201a8"
             ],
             [
              0.3333333333333333,
              "#9c179e"
             ],
             [
              0.4444444444444444,
              "#bd3786"
             ],
             [
              0.5555555555555556,
              "#d8576b"
             ],
             [
              0.6666666666666666,
              "#ed7953"
             ],
             [
              0.7777777777777778,
              "#fb9f3a"
             ],
             [
              0.8888888888888888,
              "#fdca26"
             ],
             [
              1,
              "#f0f921"
             ]
            ],
            "type": "surface"
           }
          ],
          "table": [
           {
            "cells": {
             "fill": {
              "color": "#EBF0F8"
             },
             "line": {
              "color": "white"
             }
            },
            "header": {
             "fill": {
              "color": "#C8D4E3"
             },
             "line": {
              "color": "white"
             }
            },
            "type": "table"
           }
          ]
         },
         "layout": {
          "annotationdefaults": {
           "arrowcolor": "#2a3f5f",
           "arrowhead": 0,
           "arrowwidth": 1
          },
          "autotypenumbers": "strict",
          "coloraxis": {
           "colorbar": {
            "outlinewidth": 0,
            "ticks": ""
           }
          },
          "colorscale": {
           "diverging": [
            [
             0,
             "#8e0152"
            ],
            [
             0.1,
             "#c51b7d"
            ],
            [
             0.2,
             "#de77ae"
            ],
            [
             0.3,
             "#f1b6da"
            ],
            [
             0.4,
             "#fde0ef"
            ],
            [
             0.5,
             "#f7f7f7"
            ],
            [
             0.6,
             "#e6f5d0"
            ],
            [
             0.7,
             "#b8e186"
            ],
            [
             0.8,
             "#7fbc41"
            ],
            [
             0.9,
             "#4d9221"
            ],
            [
             1,
             "#276419"
            ]
           ],
           "sequential": [
            [
             0,
             "#0d0887"
            ],
            [
             0.1111111111111111,
             "#46039f"
            ],
            [
             0.2222222222222222,
             "#7201a8"
            ],
            [
             0.3333333333333333,
             "#9c179e"
            ],
            [
             0.4444444444444444,
             "#bd3786"
            ],
            [
             0.5555555555555556,
             "#d8576b"
            ],
            [
             0.6666666666666666,
             "#ed7953"
            ],
            [
             0.7777777777777778,
             "#fb9f3a"
            ],
            [
             0.8888888888888888,
             "#fdca26"
            ],
            [
             1,
             "#f0f921"
            ]
           ],
           "sequentialminus": [
            [
             0,
             "#0d0887"
            ],
            [
             0.1111111111111111,
             "#46039f"
            ],
            [
             0.2222222222222222,
             "#7201a8"
            ],
            [
             0.3333333333333333,
             "#9c179e"
            ],
            [
             0.4444444444444444,
             "#bd3786"
            ],
            [
             0.5555555555555556,
             "#d8576b"
            ],
            [
             0.6666666666666666,
             "#ed7953"
            ],
            [
             0.7777777777777778,
             "#fb9f3a"
            ],
            [
             0.8888888888888888,
             "#fdca26"
            ],
            [
             1,
             "#f0f921"
            ]
           ]
          },
          "colorway": [
           "#636efa",
           "#EF553B",
           "#00cc96",
           "#ab63fa",
           "#FFA15A",
           "#19d3f3",
           "#FF6692",
           "#B6E880",
           "#FF97FF",
           "#FECB52"
          ],
          "font": {
           "color": "#2a3f5f"
          },
          "geo": {
           "bgcolor": "white",
           "lakecolor": "white",
           "landcolor": "#E5ECF6",
           "showlakes": true,
           "showland": true,
           "subunitcolor": "white"
          },
          "hoverlabel": {
           "align": "left"
          },
          "hovermode": "closest",
          "mapbox": {
           "style": "light"
          },
          "paper_bgcolor": "white",
          "plot_bgcolor": "#E5ECF6",
          "polar": {
           "angularaxis": {
            "gridcolor": "white",
            "linecolor": "white",
            "ticks": ""
           },
           "bgcolor": "#E5ECF6",
           "radialaxis": {
            "gridcolor": "white",
            "linecolor": "white",
            "ticks": ""
           }
          },
          "scene": {
           "xaxis": {
            "backgroundcolor": "#E5ECF6",
            "gridcolor": "white",
            "gridwidth": 2,
            "linecolor": "white",
            "showbackground": true,
            "ticks": "",
            "zerolinecolor": "white"
           },
           "yaxis": {
            "backgroundcolor": "#E5ECF6",
            "gridcolor": "white",
            "gridwidth": 2,
            "linecolor": "white",
            "showbackground": true,
            "ticks": "",
            "zerolinecolor": "white"
           },
           "zaxis": {
            "backgroundcolor": "#E5ECF6",
            "gridcolor": "white",
            "gridwidth": 2,
            "linecolor": "white",
            "showbackground": true,
            "ticks": "",
            "zerolinecolor": "white"
           }
          },
          "shapedefaults": {
           "line": {
            "color": "#2a3f5f"
           }
          },
          "ternary": {
           "aaxis": {
            "gridcolor": "white",
            "linecolor": "white",
            "ticks": ""
           },
           "baxis": {
            "gridcolor": "white",
            "linecolor": "white",
            "ticks": ""
           },
           "bgcolor": "#E5ECF6",
           "caxis": {
            "gridcolor": "white",
            "linecolor": "white",
            "ticks": ""
           }
          },
          "title": {
           "x": 0.05
          },
          "xaxis": {
           "automargin": true,
           "gridcolor": "white",
           "linecolor": "white",
           "ticks": "",
           "title": {
            "standoff": 15
           },
           "zerolinecolor": "white",
           "zerolinewidth": 2
          },
          "yaxis": {
           "automargin": true,
           "gridcolor": "white",
           "linecolor": "white",
           "ticks": "",
           "title": {
            "standoff": 15
           },
           "zerolinecolor": "white",
           "zerolinewidth": 2
          }
         }
        },
        "title": {
         "text": "Average Spacecraft Cost by Manufacturer"
        },
        "xaxis": {
         "anchor": "y",
         "domain": [
          0,
          1
         ],
         "title": {
          "text": "Manufacturer"
         }
        },
        "yaxis": {
         "anchor": "x",
         "domain": [
          0,
          1
         ],
         "title": {
          "text": "Average Cost (Million USD)"
         }
        }
       }
      }
     },
     "metadata": {},
     "output_type": "display_data"
    }
   ],
   "source": [
    "avg_cost = spacecraft.groupby(\"Manufacturer\")[\"Cost_million_usd\"].mean().reset_index()\n",
    "\n",
    "fig = px.bar(avg_cost, x=\"Manufacturer\", y=\"Cost_million_usd\",\n",
    "             title=\"Average Spacecraft Cost by Manufacturer\",\n",
    "             labels={\"Cost_million_usd\": \"Average Cost (Million USD)\"})\n",
    "fig.show()\n"
   ]
  },
  {
   "cell_type": "code",
   "execution_count": 7,
   "id": "b9982575",
   "metadata": {},
   "outputs": [
    {
     "data": {
      "application/vnd.plotly.v1+json": {
       "config": {
        "plotlyServerURL": "https://plot.ly"
       },
       "data": [
        {
         "domain": {
          "x": [
           0,
           1
          ],
          "y": [
           0,
           1
          ]
         },
         "hovertemplate": "Type=%{label}<extra></extra>",
         "labels": [
          "Rocket",
          "Space Telescope",
          "Space Telescope",
          "Satellite",
          "Space Telescope",
          "Probe",
          "Space Capsule",
          "Lander",
          "Space Telescope",
          "Shuttle",
          "Space Tug",
          "Space Telescope",
          "Space Telescope",
          "Space Capsule",
          "Space Telescope",
          "Lander",
          "Space Capsule",
          "Space Telescope",
          "Rocket",
          "Rocket",
          "Rocket",
          "Rover",
          "Rocket",
          "Space Telescope",
          "Rocket",
          "Space Telescope",
          "Space Capsule",
          "Space Telescope",
          "Lander",
          "Shuttle",
          "Space Telescope",
          "Space Capsule",
          "Rover",
          "Probe",
          "Space Telescope",
          "Shuttle",
          "Shuttle",
          "Shuttle",
          "Rocket",
          "Lander",
          "Space Telescope",
          "Space Telescope",
          "Shuttle",
          "Space Telescope",
          "Space Telescope",
          "Rover",
          "Space Telescope",
          "Space Telescope",
          "Space Capsule",
          "Space Telescope",
          "Space Tug",
          "Space Tug",
          "Space Telescope",
          "Space Telescope",
          "Satellite",
          "Lander",
          "Rocket",
          "Satellite",
          "Space Tug",
          "Space Telescope",
          "Space Telescope",
          "Rover",
          "Space Telescope",
          "Space Telescope",
          "Satellite",
          "Space Telescope",
          "Probe",
          "Space Telescope",
          "Probe",
          "Space Telescope",
          "Space Telescope",
          "Rocket",
          "Satellite",
          "Space Telescope",
          "Rocket",
          "Space Telescope",
          "Space Telescope",
          "Space Telescope",
          "Space Telescope",
          "Space Telescope",
          "Space Capsule",
          "Rocket",
          "Shuttle",
          "Space Telescope",
          "Space Telescope",
          "Space Capsule",
          "Space Capsule",
          "Space Tug",
          "Probe",
          "Space Telescope",
          "Space Telescope",
          "Space Telescope",
          "Space Telescope",
          "Space Telescope",
          "Lander",
          "Space Telescope",
          "Rocket",
          "Space Telescope",
          "Space Telescope",
          "Space Telescope",
          "Space Telescope",
          "Rover",
          "Space Telescope",
          "Lander",
          "Space Telescope",
          "Space Telescope",
          "Probe",
          "Space Telescope",
          "Space Telescope",
          "Satellite",
          "Lander",
          "Rocket",
          "Space Telescope",
          "Rocket",
          "Space Telescope",
          "Space Telescope",
          "Space Telescope",
          "Lander",
          "Probe",
          "Shuttle",
          "Shuttle",
          "Space Tug",
          "Space Telescope",
          "Space Telescope",
          "Rocket",
          "Space Telescope",
          "Space Telescope",
          "Shuttle",
          "Probe",
          "Shuttle",
          "Rover",
          "Probe",
          "Satellite",
          "Shuttle",
          "Space Telescope",
          "Rocket",
          "Space Telescope",
          "Space Telescope",
          "Probe",
          "Space Telescope",
          "Lander",
          "Rocket",
          "Rocket",
          "Rover",
          "Space Telescope",
          "Satellite",
          "Space Telescope",
          "Space Telescope",
          "Shuttle",
          "Satellite",
          "Shuttle",
          "Shuttle",
          "Rocket",
          "Shuttle",
          "Rocket",
          "Space Telescope",
          "Space Telescope",
          "Lander",
          "Space Telescope",
          "Space Tug",
          "Space Telescope",
          "Shuttle",
          "Space Telescope",
          "Rover",
          "Space Telescope",
          "Space Telescope",
          "Space Tug",
          "Rocket",
          "Probe",
          "Space Telescope",
          "Space Telescope",
          "Space Tug",
          "Shuttle",
          "Rocket",
          "Probe",
          "Space Tug",
          "Probe",
          "Space Telescope",
          "Space Telescope",
          "Space Telescope",
          "Rocket",
          "Space Telescope",
          "Satellite",
          "Space Telescope",
          "Space Telescope",
          "Shuttle",
          "Space Telescope",
          "Space Telescope",
          "Shuttle",
          "Lander",
          "Lander",
          "Space Capsule",
          "Lander",
          "Probe",
          "Space Telescope",
          "Shuttle",
          "Rocket",
          "Space Telescope",
          "Space Telescope",
          "Rocket",
          "Rover",
          "Space Telescope",
          "Lander",
          "Space Capsule",
          "Satellite",
          "Shuttle",
          "Probe",
          "Shuttle",
          "Shuttle",
          "Space Telescope",
          "Space Telescope",
          "Space Telescope",
          "Space Tug",
          "Space Tug",
          "Shuttle",
          "Shuttle",
          "Space Telescope",
          "Space Telescope",
          "Probe",
          "Space Capsule",
          "Space Tug",
          "Space Telescope",
          "Space Telescope",
          "Rover",
          "Satellite",
          "Shuttle",
          "Space Telescope",
          "Rocket",
          "Rocket",
          "Shuttle",
          "Space Telescope",
          "Space Telescope",
          "Space Tug",
          "Space Telescope",
          "Lander",
          "Space Telescope",
          "Space Tug",
          "Rocket",
          "Space Capsule",
          "Space Telescope",
          "Space Telescope",
          "Space Capsule",
          "Space Capsule",
          "Space Telescope",
          "Probe",
          "Space Tug",
          "Space Telescope",
          "Space Tug",
          "Space Tug",
          "Space Telescope",
          "Satellite",
          "Space Telescope",
          "Shuttle",
          "Space Capsule",
          "Probe",
          "Rocket",
          "Rover",
          "Shuttle",
          "Space Capsule",
          "Space Telescope",
          "Space Telescope",
          "Probe",
          "Space Telescope",
          "Lander",
          "Rocket",
          "Space Telescope",
          "Space Telescope",
          "Space Capsule",
          "Space Telescope",
          "Satellite",
          "Rocket",
          "Shuttle",
          "Probe",
          "Space Telescope",
          "Shuttle",
          "Probe",
          "Space Telescope",
          "Space Telescope",
          "Rover",
          "Shuttle",
          "Probe",
          "Satellite",
          "Rocket",
          "Space Telescope",
          "Rocket",
          "Space Telescope",
          "Space Telescope",
          "Rover",
          "Probe",
          "Space Telescope",
          "Space Telescope",
          "Space Telescope",
          "Space Telescope",
          "Space Telescope",
          "Space Telescope",
          "Space Telescope",
          "Shuttle",
          "Satellite",
          "Rover",
          "Space Telescope",
          "Space Telescope",
          "Space Telescope",
          "Rocket",
          "Space Telescope",
          "Space Telescope",
          "Rover",
          "Space Capsule",
          "Lander",
          "Space Capsule",
          "Shuttle",
          "Space Telescope",
          "Space Telescope",
          "Space Telescope",
          "Space Telescope",
          "Rocket",
          "Rover",
          "Lander",
          "Space Tug",
          "Space Telescope",
          "Shuttle",
          "Rover",
          "Lander",
          "Space Telescope",
          "Space Telescope",
          "Rover",
          "Space Telescope",
          "Shuttle",
          "Space Tug",
          "Shuttle",
          "Space Telescope",
          "Space Telescope",
          "Rover",
          "Lander",
          "Probe",
          "Space Telescope",
          "Satellite",
          "Space Telescope",
          "Shuttle",
          "Space Telescope",
          "Rocket",
          "Shuttle",
          "Shuttle",
          "Shuttle",
          "Shuttle",
          "Space Telescope",
          "Space Telescope",
          "Shuttle",
          "Rover",
          "Space Telescope",
          "Space Telescope",
          "Space Telescope",
          "Shuttle",
          "Space Telescope",
          "Space Telescope",
          "Lander",
          "Space Tug",
          "Rocket",
          "Space Telescope",
          "Space Capsule",
          "Rover",
          "Probe",
          "Probe",
          "Space Telescope",
          "Lander",
          "Lander",
          "Space Telescope",
          "Space Telescope",
          "Rover",
          "Space Telescope",
          "Space Tug",
          "Satellite",
          "Space Telescope",
          "Space Telescope",
          "Space Telescope",
          "Space Telescope",
          "Space Telescope",
          "Rover",
          "Lander",
          "Space Telescope",
          "Probe",
          "Satellite",
          "Space Telescope",
          "Rover",
          "Lander",
          "Probe",
          "Rocket",
          "Space Telescope",
          "Space Telescope",
          "Rover",
          "Space Telescope",
          "Space Telescope",
          "Probe",
          "Probe",
          "Space Telescope",
          "Space Telescope",
          "Space Capsule",
          "Lander",
          "Space Telescope",
          "Shuttle",
          "Rover",
          "Space Telescope",
          "Space Telescope",
          "Space Capsule",
          "Space Telescope",
          "Rocket",
          "Space Telescope",
          "Space Telescope",
          "Rover",
          "Rover",
          "Space Telescope",
          "Space Telescope",
          "Space Telescope",
          "Shuttle",
          "Probe",
          "Lander",
          "Space Telescope",
          "Shuttle",
          "Space Tug",
          "Rover",
          "Space Telescope",
          "Space Telescope",
          "Shuttle",
          "Space Telescope",
          "Space Telescope",
          "Rover",
          "Shuttle",
          "Rover",
          "Space Capsule",
          "Space Telescope",
          "Probe",
          "Rover",
          "Rover",
          "Rover",
          "Space Telescope",
          "Space Telescope",
          "Shuttle",
          "Space Telescope",
          "Space Capsule",
          "Rocket",
          "Lander",
          "Space Telescope",
          "Probe",
          "Probe",
          "Satellite",
          "Space Telescope",
          "Space Telescope",
          "Space Telescope",
          "Space Telescope",
          "Satellite",
          "Space Tug",
          "Rocket",
          "Shuttle",
          "Space Tug",
          "Space Tug",
          "Rocket",
          "Space Capsule",
          "Rover",
          "Rover",
          "Space Tug",
          "Satellite",
          "Space Capsule",
          "Space Tug",
          "Rover",
          "Rover",
          "Space Tug",
          "Shuttle",
          "Space Tug",
          "Rover",
          "Space Tug",
          "Space Tug",
          "Rocket",
          "Space Tug",
          "Space Capsule",
          "Space Capsule",
          "Rocket",
          "Rocket",
          "Satellite",
          "Shuttle",
          "Lander",
          "Rocket",
          "Space Tug",
          "Lander",
          "Satellite",
          "Satellite",
          "Lander",
          "Space Tug",
          "Rover",
          "Space Tug",
          "Space Tug",
          "Satellite",
          "Rover",
          "Shuttle",
          "Rocket",
          "Space Tug",
          "Probe",
          "Space Tug",
          "Rocket",
          "Space Tug",
          "Rocket",
          "Space Tug",
          "Lander",
          "Space Tug",
          "Lander",
          "Space Tug",
          "Shuttle",
          "Lander",
          "Space Tug",
          "Rocket",
          "Rover",
          "Space Tug",
          "Space Tug",
          "Lander",
          "Rover",
          "Space Tug",
          "Satellite",
          "Rocket",
          "Lander",
          "Rocket",
          "Satellite",
          "Space Tug",
          "Space Tug",
          "Shuttle",
          "Space Tug",
          "Lander",
          "Lander",
          "Space Tug",
          "Rover",
          "Space Tug",
          "Rocket",
          "Space Tug",
          "Shuttle",
          "Space Tug",
          "Rover",
          "Probe",
          "Shuttle",
          "Shuttle",
          "Space Tug",
          "Space Tug",
          "Space Capsule",
          "Space Tug",
          "Space Tug",
          "Shuttle",
          "Probe",
          "Rover",
          "Shuttle",
          "Space Tug",
          "Shuttle",
          "Space Tug",
          "Rocket",
          "Shuttle",
          "Space Tug",
          "Space Tug",
          "Space Tug",
          "Satellite",
          "Probe",
          "Space Tug",
          "Rocket",
          "Lander",
          "Rocket",
          "Rover",
          "Space Tug",
          "Space Tug",
          "Satellite",
          "Space Tug",
          "Space Tug",
          "Probe",
          "Space Tug",
          "Space Capsule",
          "Rover",
          "Lander",
          "Space Tug",
          "Shuttle",
          "Space Tug",
          "Space Tug",
          "Lander",
          "Space Tug",
          "Space Tug",
          "Probe",
          "Space Tug",
          "Rocket",
          "Space Capsule",
          "Space Capsule",
          "Rocket",
          "Space Tug",
          "Lander",
          "Shuttle",
          "Rover",
          "Rover",
          "Probe",
          "Satellite",
          "Rover",
          "Space Tug",
          "Satellite",
          "Shuttle",
          "Space Capsule",
          "Lander",
          "Space Tug",
          "Space Capsule",
          "Space Tug",
          "Space Tug",
          "Space Tug",
          "Rocket",
          "Space Tug",
          "Rocket",
          "Space Tug",
          "Satellite",
          "Space Tug",
          "Shuttle",
          "Rocket",
          "Space Tug",
          "Rocket",
          "Shuttle",
          "Shuttle",
          "Space Tug",
          "Shuttle",
          "Space Tug",
          "Space Tug",
          "Rover",
          "Probe",
          "Rocket",
          "Rover",
          "Rover",
          "Space Tug",
          "Space Tug",
          "Space Tug",
          "Rocket",
          "Shuttle",
          "Probe",
          "Shuttle",
          "Rover",
          "Space Tug",
          "Rocket",
          "Rocket",
          "Rover",
          "Space Tug",
          "Shuttle",
          "Probe",
          "Shuttle",
          "Rover",
          "Space Tug",
          "Space Tug",
          "Space Tug",
          "Rocket",
          "Lander",
          "Rover",
          "Shuttle",
          "Space Capsule",
          "Satellite",
          "Rocket",
          "Space Tug",
          "Space Tug",
          "Space Tug",
          "Space Tug",
          "Space Tug",
          "Space Tug",
          "Rover",
          "Rocket",
          "Rover",
          "Rocket",
          "Rover",
          "Rover",
          "Rocket",
          "Rocket",
          "Space Tug",
          "Space Tug",
          "Lander",
          "Lander",
          "Rocket",
          "Rocket",
          "Rover",
          "Space Tug",
          "Space Tug",
          "Space Tug",
          "Lander",
          "Rocket",
          "Shuttle",
          "Satellite",
          "Lander",
          "Space Capsule",
          "Space Tug",
          "Space Tug",
          "Lander",
          "Lander",
          "Rocket",
          "Space Tug",
          "Space Tug",
          "Space Tug",
          "Space Tug",
          "Lander",
          "Space Tug",
          "Space Tug",
          "Rover",
          "Space Tug",
          "Lander",
          "Rover",
          "Shuttle",
          "Space Tug",
          "Space Tug",
          "Rover",
          "Shuttle",
          "Space Tug",
          "Shuttle",
          "Rocket",
          "Rover",
          "Satellite",
          "Satellite",
          "Space Tug",
          "Shuttle",
          "Probe",
          "Lander",
          "Satellite",
          "Satellite",
          "Shuttle",
          "Lander",
          "Space Capsule",
          "Rover",
          "Satellite",
          "Shuttle",
          "Lander",
          "Probe",
          "Probe",
          "Lander",
          "Satellite",
          "Space Tug",
          "Lander",
          "Rocket",
          "Space Tug",
          "Rover",
          "Shuttle",
          "Space Tug",
          "Rover",
          "Probe",
          "Shuttle",
          "Space Tug",
          "Space Tug",
          "Space Tug",
          "Probe",
          "Satellite",
          "Space Tug",
          "Probe",
          "Satellite",
          "Space Tug",
          "Lander",
          "Space Tug",
          "Space Tug",
          "Lander",
          "Shuttle",
          "Probe",
          "Space Tug",
          "Space Tug",
          "Space Tug",
          "Space Tug",
          "Space Tug",
          "Lander",
          "Space Tug",
          "Space Tug",
          "Rover",
          "Space Tug",
          "Lander",
          "Rover"
         ],
         "legendgroup": "",
         "name": "",
         "showlegend": true,
         "type": "pie"
        }
       ],
       "layout": {
        "legend": {
         "tracegroupgap": 0
        },
        "template": {
         "data": {
          "bar": [
           {
            "error_x": {
             "color": "#2a3f5f"
            },
            "error_y": {
             "color": "#2a3f5f"
            },
            "marker": {
             "line": {
              "color": "#E5ECF6",
              "width": 0.5
             },
             "pattern": {
              "fillmode": "overlay",
              "size": 10,
              "solidity": 0.2
             }
            },
            "type": "bar"
           }
          ],
          "barpolar": [
           {
            "marker": {
             "line": {
              "color": "#E5ECF6",
              "width": 0.5
             },
             "pattern": {
              "fillmode": "overlay",
              "size": 10,
              "solidity": 0.2
             }
            },
            "type": "barpolar"
           }
          ],
          "carpet": [
           {
            "aaxis": {
             "endlinecolor": "#2a3f5f",
             "gridcolor": "white",
             "linecolor": "white",
             "minorgridcolor": "white",
             "startlinecolor": "#2a3f5f"
            },
            "baxis": {
             "endlinecolor": "#2a3f5f",
             "gridcolor": "white",
             "linecolor": "white",
             "minorgridcolor": "white",
             "startlinecolor": "#2a3f5f"
            },
            "type": "carpet"
           }
          ],
          "choropleth": [
           {
            "colorbar": {
             "outlinewidth": 0,
             "ticks": ""
            },
            "type": "choropleth"
           }
          ],
          "contour": [
           {
            "colorbar": {
             "outlinewidth": 0,
             "ticks": ""
            },
            "colorscale": [
             [
              0,
              "#0d0887"
             ],
             [
              0.1111111111111111,
              "#46039f"
             ],
             [
              0.2222222222222222,
              "#7201a8"
             ],
             [
              0.3333333333333333,
              "#9c179e"
             ],
             [
              0.4444444444444444,
              "#bd3786"
             ],
             [
              0.5555555555555556,
              "#d8576b"
             ],
             [
              0.6666666666666666,
              "#ed7953"
             ],
             [
              0.7777777777777778,
              "#fb9f3a"
             ],
             [
              0.8888888888888888,
              "#fdca26"
             ],
             [
              1,
              "#f0f921"
             ]
            ],
            "type": "contour"
           }
          ],
          "contourcarpet": [
           {
            "colorbar": {
             "outlinewidth": 0,
             "ticks": ""
            },
            "type": "contourcarpet"
           }
          ],
          "heatmap": [
           {
            "colorbar": {
             "outlinewidth": 0,
             "ticks": ""
            },
            "colorscale": [
             [
              0,
              "#0d0887"
             ],
             [
              0.1111111111111111,
              "#46039f"
             ],
             [
              0.2222222222222222,
              "#7201a8"
             ],
             [
              0.3333333333333333,
              "#9c179e"
             ],
             [
              0.4444444444444444,
              "#bd3786"
             ],
             [
              0.5555555555555556,
              "#d8576b"
             ],
             [
              0.6666666666666666,
              "#ed7953"
             ],
             [
              0.7777777777777778,
              "#fb9f3a"
             ],
             [
              0.8888888888888888,
              "#fdca26"
             ],
             [
              1,
              "#f0f921"
             ]
            ],
            "type": "heatmap"
           }
          ],
          "histogram": [
           {
            "marker": {
             "pattern": {
              "fillmode": "overlay",
              "size": 10,
              "solidity": 0.2
             }
            },
            "type": "histogram"
           }
          ],
          "histogram2d": [
           {
            "colorbar": {
             "outlinewidth": 0,
             "ticks": ""
            },
            "colorscale": [
             [
              0,
              "#0d0887"
             ],
             [
              0.1111111111111111,
              "#46039f"
             ],
             [
              0.2222222222222222,
              "#7201a8"
             ],
             [
              0.3333333333333333,
              "#9c179e"
             ],
             [
              0.4444444444444444,
              "#bd3786"
             ],
             [
              0.5555555555555556,
              "#d8576b"
             ],
             [
              0.6666666666666666,
              "#ed7953"
             ],
             [
              0.7777777777777778,
              "#fb9f3a"
             ],
             [
              0.8888888888888888,
              "#fdca26"
             ],
             [
              1,
              "#f0f921"
             ]
            ],
            "type": "histogram2d"
           }
          ],
          "histogram2dcontour": [
           {
            "colorbar": {
             "outlinewidth": 0,
             "ticks": ""
            },
            "colorscale": [
             [
              0,
              "#0d0887"
             ],
             [
              0.1111111111111111,
              "#46039f"
             ],
             [
              0.2222222222222222,
              "#7201a8"
             ],
             [
              0.3333333333333333,
              "#9c179e"
             ],
             [
              0.4444444444444444,
              "#bd3786"
             ],
             [
              0.5555555555555556,
              "#d8576b"
             ],
             [
              0.6666666666666666,
              "#ed7953"
             ],
             [
              0.7777777777777778,
              "#fb9f3a"
             ],
             [
              0.8888888888888888,
              "#fdca26"
             ],
             [
              1,
              "#f0f921"
             ]
            ],
            "type": "histogram2dcontour"
           }
          ],
          "mesh3d": [
           {
            "colorbar": {
             "outlinewidth": 0,
             "ticks": ""
            },
            "type": "mesh3d"
           }
          ],
          "parcoords": [
           {
            "line": {
             "colorbar": {
              "outlinewidth": 0,
              "ticks": ""
             }
            },
            "type": "parcoords"
           }
          ],
          "pie": [
           {
            "automargin": true,
            "type": "pie"
           }
          ],
          "scatter": [
           {
            "fillpattern": {
             "fillmode": "overlay",
             "size": 10,
             "solidity": 0.2
            },
            "type": "scatter"
           }
          ],
          "scatter3d": [
           {
            "line": {
             "colorbar": {
              "outlinewidth": 0,
              "ticks": ""
             }
            },
            "marker": {
             "colorbar": {
              "outlinewidth": 0,
              "ticks": ""
             }
            },
            "type": "scatter3d"
           }
          ],
          "scattercarpet": [
           {
            "marker": {
             "colorbar": {
              "outlinewidth": 0,
              "ticks": ""
             }
            },
            "type": "scattercarpet"
           }
          ],
          "scattergeo": [
           {
            "marker": {
             "colorbar": {
              "outlinewidth": 0,
              "ticks": ""
             }
            },
            "type": "scattergeo"
           }
          ],
          "scattergl": [
           {
            "marker": {
             "colorbar": {
              "outlinewidth": 0,
              "ticks": ""
             }
            },
            "type": "scattergl"
           }
          ],
          "scattermap": [
           {
            "marker": {
             "colorbar": {
              "outlinewidth": 0,
              "ticks": ""
             }
            },
            "type": "scattermap"
           }
          ],
          "scattermapbox": [
           {
            "marker": {
             "colorbar": {
              "outlinewidth": 0,
              "ticks": ""
             }
            },
            "type": "scattermapbox"
           }
          ],
          "scatterpolar": [
           {
            "marker": {
             "colorbar": {
              "outlinewidth": 0,
              "ticks": ""
             }
            },
            "type": "scatterpolar"
           }
          ],
          "scatterpolargl": [
           {
            "marker": {
             "colorbar": {
              "outlinewidth": 0,
              "ticks": ""
             }
            },
            "type": "scatterpolargl"
           }
          ],
          "scatterternary": [
           {
            "marker": {
             "colorbar": {
              "outlinewidth": 0,
              "ticks": ""
             }
            },
            "type": "scatterternary"
           }
          ],
          "surface": [
           {
            "colorbar": {
             "outlinewidth": 0,
             "ticks": ""
            },
            "colorscale": [
             [
              0,
              "#0d0887"
             ],
             [
              0.1111111111111111,
              "#46039f"
             ],
             [
              0.2222222222222222,
              "#7201a8"
             ],
             [
              0.3333333333333333,
              "#9c179e"
             ],
             [
              0.4444444444444444,
              "#bd3786"
             ],
             [
              0.5555555555555556,
              "#d8576b"
             ],
             [
              0.6666666666666666,
              "#ed7953"
             ],
             [
              0.7777777777777778,
              "#fb9f3a"
             ],
             [
              0.8888888888888888,
              "#fdca26"
             ],
             [
              1,
              "#f0f921"
             ]
            ],
            "type": "surface"
           }
          ],
          "table": [
           {
            "cells": {
             "fill": {
              "color": "#EBF0F8"
             },
             "line": {
              "color": "white"
             }
            },
            "header": {
             "fill": {
              "color": "#C8D4E3"
             },
             "line": {
              "color": "white"
             }
            },
            "type": "table"
           }
          ]
         },
         "layout": {
          "annotationdefaults": {
           "arrowcolor": "#2a3f5f",
           "arrowhead": 0,
           "arrowwidth": 1
          },
          "autotypenumbers": "strict",
          "coloraxis": {
           "colorbar": {
            "outlinewidth": 0,
            "ticks": ""
           }
          },
          "colorscale": {
           "diverging": [
            [
             0,
             "#8e0152"
            ],
            [
             0.1,
             "#c51b7d"
            ],
            [
             0.2,
             "#de77ae"
            ],
            [
             0.3,
             "#f1b6da"
            ],
            [
             0.4,
             "#fde0ef"
            ],
            [
             0.5,
             "#f7f7f7"
            ],
            [
             0.6,
             "#e6f5d0"
            ],
            [
             0.7,
             "#b8e186"
            ],
            [
             0.8,
             "#7fbc41"
            ],
            [
             0.9,
             "#4d9221"
            ],
            [
             1,
             "#276419"
            ]
           ],
           "sequential": [
            [
             0,
             "#0d0887"
            ],
            [
             0.1111111111111111,
             "#46039f"
            ],
            [
             0.2222222222222222,
             "#7201a8"
            ],
            [
             0.3333333333333333,
             "#9c179e"
            ],
            [
             0.4444444444444444,
             "#bd3786"
            ],
            [
             0.5555555555555556,
             "#d8576b"
            ],
            [
             0.6666666666666666,
             "#ed7953"
            ],
            [
             0.7777777777777778,
             "#fb9f3a"
            ],
            [
             0.8888888888888888,
             "#fdca26"
            ],
            [
             1,
             "#f0f921"
            ]
           ],
           "sequentialminus": [
            [
             0,
             "#0d0887"
            ],
            [
             0.1111111111111111,
             "#46039f"
            ],
            [
             0.2222222222222222,
             "#7201a8"
            ],
            [
             0.3333333333333333,
             "#9c179e"
            ],
            [
             0.4444444444444444,
             "#bd3786"
            ],
            [
             0.5555555555555556,
             "#d8576b"
            ],
            [
             0.6666666666666666,
             "#ed7953"
            ],
            [
             0.7777777777777778,
             "#fb9f3a"
            ],
            [
             0.8888888888888888,
             "#fdca26"
            ],
            [
             1,
             "#f0f921"
            ]
           ]
          },
          "colorway": [
           "#636efa",
           "#EF553B",
           "#00cc96",
           "#ab63fa",
           "#FFA15A",
           "#19d3f3",
           "#FF6692",
           "#B6E880",
           "#FF97FF",
           "#FECB52"
          ],
          "font": {
           "color": "#2a3f5f"
          },
          "geo": {
           "bgcolor": "white",
           "lakecolor": "white",
           "landcolor": "#E5ECF6",
           "showlakes": true,
           "showland": true,
           "subunitcolor": "white"
          },
          "hoverlabel": {
           "align": "left"
          },
          "hovermode": "closest",
          "mapbox": {
           "style": "light"
          },
          "paper_bgcolor": "white",
          "plot_bgcolor": "#E5ECF6",
          "polar": {
           "angularaxis": {
            "gridcolor": "white",
            "linecolor": "white",
            "ticks": ""
           },
           "bgcolor": "#E5ECF6",
           "radialaxis": {
            "gridcolor": "white",
            "linecolor": "white",
            "ticks": ""
           }
          },
          "scene": {
           "xaxis": {
            "backgroundcolor": "#E5ECF6",
            "gridcolor": "white",
            "gridwidth": 2,
            "linecolor": "white",
            "showbackground": true,
            "ticks": "",
            "zerolinecolor": "white"
           },
           "yaxis": {
            "backgroundcolor": "#E5ECF6",
            "gridcolor": "white",
            "gridwidth": 2,
            "linecolor": "white",
            "showbackground": true,
            "ticks": "",
            "zerolinecolor": "white"
           },
           "zaxis": {
            "backgroundcolor": "#E5ECF6",
            "gridcolor": "white",
            "gridwidth": 2,
            "linecolor": "white",
            "showbackground": true,
            "ticks": "",
            "zerolinecolor": "white"
           }
          },
          "shapedefaults": {
           "line": {
            "color": "#2a3f5f"
           }
          },
          "ternary": {
           "aaxis": {
            "gridcolor": "white",
            "linecolor": "white",
            "ticks": ""
           },
           "baxis": {
            "gridcolor": "white",
            "linecolor": "white",
            "ticks": ""
           },
           "bgcolor": "#E5ECF6",
           "caxis": {
            "gridcolor": "white",
            "linecolor": "white",
            "ticks": ""
           }
          },
          "title": {
           "x": 0.05
          },
          "xaxis": {
           "automargin": true,
           "gridcolor": "white",
           "linecolor": "white",
           "ticks": "",
           "title": {
            "standoff": 15
           },
           "zerolinecolor": "white",
           "zerolinewidth": 2
          },
          "yaxis": {
           "automargin": true,
           "gridcolor": "white",
           "linecolor": "white",
           "ticks": "",
           "title": {
            "standoff": 15
           },
           "zerolinecolor": "white",
           "zerolinewidth": 2
          }
         }
        },
        "title": {
         "text": "Distribution of Spacecraft Types"
        }
       }
      }
     },
     "metadata": {},
     "output_type": "display_data"
    }
   ],
   "source": [
    "fig = px.pie(spacecraft, names='Type',\n",
    "             title=\"Distribution of Spacecraft Types\")\n",
    "fig.show()\n"
   ]
  },
  {
   "cell_type": "code",
   "execution_count": 16,
   "id": "f9e0bbd6",
   "metadata": {},
   "outputs": [
    {
     "data": {
      "application/vnd.plotly.v1+json": {
       "config": {
        "plotlyServerURL": "https://plot.ly"
       },
       "data": [
        {
         "hovertemplate": "Year=%{x}<br>Number of Spacecrafts=%{y}<extra></extra>",
         "legendgroup": "",
         "marker": {
          "color": "#636efa",
          "symbol": "circle"
         },
         "mode": "markers",
         "name": "",
         "orientation": "v",
         "showlegend": false,
         "type": "scatter",
         "x": {
          "bdata": "yQfOB9MHzAfNB8QHsAesB7wHvQfdB+UHuwfQB+YH1gfRB9oH5AeuB6gH3AexB78HtgfPB6kHywfVB7UH3gezB+MH0gfIB60H3wfbB+EHvgfHB9kHwgfoB8AHqgfgB7QHxgfFB8EH1Ae5B+IHtwe6B8MHsgfYB6sHygevB9cHuAfnBw==",
          "dtype": "i2"
         },
         "xaxis": "x",
         "y": {
          "bdata": "ExISEhERERAQEA8PDw8ODQ0NDQ0NDQ0NDQ0MDAwMDAwLCwsLCwsLCwsLCwoKCgoKCQkJCQkJCQgICAcGBgYGBQU=",
          "dtype": "i1"
         },
         "yaxis": "y"
        }
       ],
       "layout": {
        "legend": {
         "tracegroupgap": 0
        },
        "template": {
         "data": {
          "bar": [
           {
            "error_x": {
             "color": "#2a3f5f"
            },
            "error_y": {
             "color": "#2a3f5f"
            },
            "marker": {
             "line": {
              "color": "#E5ECF6",
              "width": 0.5
             },
             "pattern": {
              "fillmode": "overlay",
              "size": 10,
              "solidity": 0.2
             }
            },
            "type": "bar"
           }
          ],
          "barpolar": [
           {
            "marker": {
             "line": {
              "color": "#E5ECF6",
              "width": 0.5
             },
             "pattern": {
              "fillmode": "overlay",
              "size": 10,
              "solidity": 0.2
             }
            },
            "type": "barpolar"
           }
          ],
          "carpet": [
           {
            "aaxis": {
             "endlinecolor": "#2a3f5f",
             "gridcolor": "white",
             "linecolor": "white",
             "minorgridcolor": "white",
             "startlinecolor": "#2a3f5f"
            },
            "baxis": {
             "endlinecolor": "#2a3f5f",
             "gridcolor": "white",
             "linecolor": "white",
             "minorgridcolor": "white",
             "startlinecolor": "#2a3f5f"
            },
            "type": "carpet"
           }
          ],
          "choropleth": [
           {
            "colorbar": {
             "outlinewidth": 0,
             "ticks": ""
            },
            "type": "choropleth"
           }
          ],
          "contour": [
           {
            "colorbar": {
             "outlinewidth": 0,
             "ticks": ""
            },
            "colorscale": [
             [
              0,
              "#0d0887"
             ],
             [
              0.1111111111111111,
              "#46039f"
             ],
             [
              0.2222222222222222,
              "#7201a8"
             ],
             [
              0.3333333333333333,
              "#9c179e"
             ],
             [
              0.4444444444444444,
              "#bd3786"
             ],
             [
              0.5555555555555556,
              "#d8576b"
             ],
             [
              0.6666666666666666,
              "#ed7953"
             ],
             [
              0.7777777777777778,
              "#fb9f3a"
             ],
             [
              0.8888888888888888,
              "#fdca26"
             ],
             [
              1,
              "#f0f921"
             ]
            ],
            "type": "contour"
           }
          ],
          "contourcarpet": [
           {
            "colorbar": {
             "outlinewidth": 0,
             "ticks": ""
            },
            "type": "contourcarpet"
           }
          ],
          "heatmap": [
           {
            "colorbar": {
             "outlinewidth": 0,
             "ticks": ""
            },
            "colorscale": [
             [
              0,
              "#0d0887"
             ],
             [
              0.1111111111111111,
              "#46039f"
             ],
             [
              0.2222222222222222,
              "#7201a8"
             ],
             [
              0.3333333333333333,
              "#9c179e"
             ],
             [
              0.4444444444444444,
              "#bd3786"
             ],
             [
              0.5555555555555556,
              "#d8576b"
             ],
             [
              0.6666666666666666,
              "#ed7953"
             ],
             [
              0.7777777777777778,
              "#fb9f3a"
             ],
             [
              0.8888888888888888,
              "#fdca26"
             ],
             [
              1,
              "#f0f921"
             ]
            ],
            "type": "heatmap"
           }
          ],
          "histogram": [
           {
            "marker": {
             "pattern": {
              "fillmode": "overlay",
              "size": 10,
              "solidity": 0.2
             }
            },
            "type": "histogram"
           }
          ],
          "histogram2d": [
           {
            "colorbar": {
             "outlinewidth": 0,
             "ticks": ""
            },
            "colorscale": [
             [
              0,
              "#0d0887"
             ],
             [
              0.1111111111111111,
              "#46039f"
             ],
             [
              0.2222222222222222,
              "#7201a8"
             ],
             [
              0.3333333333333333,
              "#9c179e"
             ],
             [
              0.4444444444444444,
              "#bd3786"
             ],
             [
              0.5555555555555556,
              "#d8576b"
             ],
             [
              0.6666666666666666,
              "#ed7953"
             ],
             [
              0.7777777777777778,
              "#fb9f3a"
             ],
             [
              0.8888888888888888,
              "#fdca26"
             ],
             [
              1,
              "#f0f921"
             ]
            ],
            "type": "histogram2d"
           }
          ],
          "histogram2dcontour": [
           {
            "colorbar": {
             "outlinewidth": 0,
             "ticks": ""
            },
            "colorscale": [
             [
              0,
              "#0d0887"
             ],
             [
              0.1111111111111111,
              "#46039f"
             ],
             [
              0.2222222222222222,
              "#7201a8"
             ],
             [
              0.3333333333333333,
              "#9c179e"
             ],
             [
              0.4444444444444444,
              "#bd3786"
             ],
             [
              0.5555555555555556,
              "#d8576b"
             ],
             [
              0.6666666666666666,
              "#ed7953"
             ],
             [
              0.7777777777777778,
              "#fb9f3a"
             ],
             [
              0.8888888888888888,
              "#fdca26"
             ],
             [
              1,
              "#f0f921"
             ]
            ],
            "type": "histogram2dcontour"
           }
          ],
          "mesh3d": [
           {
            "colorbar": {
             "outlinewidth": 0,
             "ticks": ""
            },
            "type": "mesh3d"
           }
          ],
          "parcoords": [
           {
            "line": {
             "colorbar": {
              "outlinewidth": 0,
              "ticks": ""
             }
            },
            "type": "parcoords"
           }
          ],
          "pie": [
           {
            "automargin": true,
            "type": "pie"
           }
          ],
          "scatter": [
           {
            "fillpattern": {
             "fillmode": "overlay",
             "size": 10,
             "solidity": 0.2
            },
            "type": "scatter"
           }
          ],
          "scatter3d": [
           {
            "line": {
             "colorbar": {
              "outlinewidth": 0,
              "ticks": ""
             }
            },
            "marker": {
             "colorbar": {
              "outlinewidth": 0,
              "ticks": ""
             }
            },
            "type": "scatter3d"
           }
          ],
          "scattercarpet": [
           {
            "marker": {
             "colorbar": {
              "outlinewidth": 0,
              "ticks": ""
             }
            },
            "type": "scattercarpet"
           }
          ],
          "scattergeo": [
           {
            "marker": {
             "colorbar": {
              "outlinewidth": 0,
              "ticks": ""
             }
            },
            "type": "scattergeo"
           }
          ],
          "scattergl": [
           {
            "marker": {
             "colorbar": {
              "outlinewidth": 0,
              "ticks": ""
             }
            },
            "type": "scattergl"
           }
          ],
          "scattermap": [
           {
            "marker": {
             "colorbar": {
              "outlinewidth": 0,
              "ticks": ""
             }
            },
            "type": "scattermap"
           }
          ],
          "scattermapbox": [
           {
            "marker": {
             "colorbar": {
              "outlinewidth": 0,
              "ticks": ""
             }
            },
            "type": "scattermapbox"
           }
          ],
          "scatterpolar": [
           {
            "marker": {
             "colorbar": {
              "outlinewidth": 0,
              "ticks": ""
             }
            },
            "type": "scatterpolar"
           }
          ],
          "scatterpolargl": [
           {
            "marker": {
             "colorbar": {
              "outlinewidth": 0,
              "ticks": ""
             }
            },
            "type": "scatterpolargl"
           }
          ],
          "scatterternary": [
           {
            "marker": {
             "colorbar": {
              "outlinewidth": 0,
              "ticks": ""
             }
            },
            "type": "scatterternary"
           }
          ],
          "surface": [
           {
            "colorbar": {
             "outlinewidth": 0,
             "ticks": ""
            },
            "colorscale": [
             [
              0,
              "#0d0887"
             ],
             [
              0.1111111111111111,
              "#46039f"
             ],
             [
              0.2222222222222222,
              "#7201a8"
             ],
             [
              0.3333333333333333,
              "#9c179e"
             ],
             [
              0.4444444444444444,
              "#bd3786"
             ],
             [
              0.5555555555555556,
              "#d8576b"
             ],
             [
              0.6666666666666666,
              "#ed7953"
             ],
             [
              0.7777777777777778,
              "#fb9f3a"
             ],
             [
              0.8888888888888888,
              "#fdca26"
             ],
             [
              1,
              "#f0f921"
             ]
            ],
            "type": "surface"
           }
          ],
          "table": [
           {
            "cells": {
             "fill": {
              "color": "#EBF0F8"
             },
             "line": {
              "color": "white"
             }
            },
            "header": {
             "fill": {
              "color": "#C8D4E3"
             },
             "line": {
              "color": "white"
             }
            },
            "type": "table"
           }
          ]
         },
         "layout": {
          "annotationdefaults": {
           "arrowcolor": "#2a3f5f",
           "arrowhead": 0,
           "arrowwidth": 1
          },
          "autotypenumbers": "strict",
          "coloraxis": {
           "colorbar": {
            "outlinewidth": 0,
            "ticks": ""
           }
          },
          "colorscale": {
           "diverging": [
            [
             0,
             "#8e0152"
            ],
            [
             0.1,
             "#c51b7d"
            ],
            [
             0.2,
             "#de77ae"
            ],
            [
             0.3,
             "#f1b6da"
            ],
            [
             0.4,
             "#fde0ef"
            ],
            [
             0.5,
             "#f7f7f7"
            ],
            [
             0.6,
             "#e6f5d0"
            ],
            [
             0.7,
             "#b8e186"
            ],
            [
             0.8,
             "#7fbc41"
            ],
            [
             0.9,
             "#4d9221"
            ],
            [
             1,
             "#276419"
            ]
           ],
           "sequential": [
            [
             0,
             "#0d0887"
            ],
            [
             0.1111111111111111,
             "#46039f"
            ],
            [
             0.2222222222222222,
             "#7201a8"
            ],
            [
             0.3333333333333333,
             "#9c179e"
            ],
            [
             0.4444444444444444,
             "#bd3786"
            ],
            [
             0.5555555555555556,
             "#d8576b"
            ],
            [
             0.6666666666666666,
             "#ed7953"
            ],
            [
             0.7777777777777778,
             "#fb9f3a"
            ],
            [
             0.8888888888888888,
             "#fdca26"
            ],
            [
             1,
             "#f0f921"
            ]
           ],
           "sequentialminus": [
            [
             0,
             "#0d0887"
            ],
            [
             0.1111111111111111,
             "#46039f"
            ],
            [
             0.2222222222222222,
             "#7201a8"
            ],
            [
             0.3333333333333333,
             "#9c179e"
            ],
            [
             0.4444444444444444,
             "#bd3786"
            ],
            [
             0.5555555555555556,
             "#d8576b"
            ],
            [
             0.6666666666666666,
             "#ed7953"
            ],
            [
             0.7777777777777778,
             "#fb9f3a"
            ],
            [
             0.8888888888888888,
             "#fdca26"
            ],
            [
             1,
             "#f0f921"
            ]
           ]
          },
          "colorway": [
           "#636efa",
           "#EF553B",
           "#00cc96",
           "#ab63fa",
           "#FFA15A",
           "#19d3f3",
           "#FF6692",
           "#B6E880",
           "#FF97FF",
           "#FECB52"
          ],
          "font": {
           "color": "#2a3f5f"
          },
          "geo": {
           "bgcolor": "white",
           "lakecolor": "white",
           "landcolor": "#E5ECF6",
           "showlakes": true,
           "showland": true,
           "subunitcolor": "white"
          },
          "hoverlabel": {
           "align": "left"
          },
          "hovermode": "closest",
          "mapbox": {
           "style": "light"
          },
          "paper_bgcolor": "white",
          "plot_bgcolor": "#E5ECF6",
          "polar": {
           "angularaxis": {
            "gridcolor": "white",
            "linecolor": "white",
            "ticks": ""
           },
           "bgcolor": "#E5ECF6",
           "radialaxis": {
            "gridcolor": "white",
            "linecolor": "white",
            "ticks": ""
           }
          },
          "scene": {
           "xaxis": {
            "backgroundcolor": "#E5ECF6",
            "gridcolor": "white",
            "gridwidth": 2,
            "linecolor": "white",
            "showbackground": true,
            "ticks": "",
            "zerolinecolor": "white"
           },
           "yaxis": {
            "backgroundcolor": "#E5ECF6",
            "gridcolor": "white",
            "gridwidth": 2,
            "linecolor": "white",
            "showbackground": true,
            "ticks": "",
            "zerolinecolor": "white"
           },
           "zaxis": {
            "backgroundcolor": "#E5ECF6",
            "gridcolor": "white",
            "gridwidth": 2,
            "linecolor": "white",
            "showbackground": true,
            "ticks": "",
            "zerolinecolor": "white"
           }
          },
          "shapedefaults": {
           "line": {
            "color": "#2a3f5f"
           }
          },
          "ternary": {
           "aaxis": {
            "gridcolor": "white",
            "linecolor": "white",
            "ticks": ""
           },
           "baxis": {
            "gridcolor": "white",
            "linecolor": "white",
            "ticks": ""
           },
           "bgcolor": "#E5ECF6",
           "caxis": {
            "gridcolor": "white",
            "linecolor": "white",
            "ticks": ""
           }
          },
          "title": {
           "x": 0.05
          },
          "xaxis": {
           "automargin": true,
           "gridcolor": "white",
           "linecolor": "white",
           "ticks": "",
           "title": {
            "standoff": 15
           },
           "zerolinecolor": "white",
           "zerolinewidth": 2
          },
          "yaxis": {
           "automargin": true,
           "gridcolor": "white",
           "linecolor": "white",
           "ticks": "",
           "title": {
            "standoff": 15
           },
           "zerolinecolor": "white",
           "zerolinewidth": 2
          }
         }
        },
        "title": {
         "text": "Number of Spacecrafts by First Launch Year"
        },
        "xaxis": {
         "anchor": "y",
         "domain": [
          0,
          1
         ],
         "title": {
          "text": "Year"
         }
        },
        "yaxis": {
         "anchor": "x",
         "domain": [
          0,
          1
         ],
         "title": {
          "text": "Number of Spacecrafts"
         }
        }
       }
      }
     },
     "metadata": {},
     "output_type": "display_data"
    }
   ],
   "source": [
    "yers = spacecraft['first_launch_year'].value_counts().reset_index()\n",
    "yers.columns = ['First_Launch', 'Count']\n",
    "\n",
    "fig = px.scatter(\n",
    "    yers,\n",
    "    x='First_Launch',\n",
    "    y='Count',\n",
    "    title='Number of Spacecrafts by First Launch Year',\n",
    "    labels={'First_Launch': 'Year', 'Count': 'Number of Spacecrafts'}\n",
    ")\n",
    "fig.show()\n"
   ]
  },
  {
   "cell_type": "code",
   "execution_count": null,
   "id": "c3937347",
   "metadata": {},
   "outputs": [],
   "source": []
  }
 ],
 "metadata": {
  "kernelspec": {
   "display_name": "Python 3",
   "language": "python",
   "name": "python3"
  },
  "language_info": {
   "codemirror_mode": {
    "name": "ipython",
    "version": 3
   },
   "file_extension": ".py",
   "mimetype": "text/x-python",
   "name": "python",
   "nbconvert_exporter": "python",
   "pygments_lexer": "ipython3",
   "version": "3.13.5"
  }
 },
 "nbformat": 4,
 "nbformat_minor": 5
}
