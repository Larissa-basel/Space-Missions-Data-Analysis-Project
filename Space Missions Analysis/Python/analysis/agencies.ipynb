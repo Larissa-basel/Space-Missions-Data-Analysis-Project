{
 "cells": [
  {
   "cell_type": "code",
   "execution_count": null,
   "id": "e6eda9d7",
   "metadata": {},
   "outputs": [],
   "source": [
    "import pandas as pd\n",
    "import plotly.express as px\n"
   ]
  },
  {
   "cell_type": "code",
   "execution_count": 3,
   "id": "1b459eb7",
   "metadata": {},
   "outputs": [
    {
     "data": {
      "text/html": [
       "<div>\n",
       "<style scoped>\n",
       "    .dataframe tbody tr th:only-of-type {\n",
       "        vertical-align: middle;\n",
       "    }\n",
       "\n",
       "    .dataframe tbody tr th {\n",
       "        vertical-align: top;\n",
       "    }\n",
       "\n",
       "    .dataframe thead th {\n",
       "        text-align: right;\n",
       "    }\n",
       "</style>\n",
       "<table border=\"1\" class=\"dataframe\">\n",
       "  <thead>\n",
       "    <tr style=\"text-align: right;\">\n",
       "      <th></th>\n",
       "      <th>Agency_id</th>\n",
       "      <th>Agency_name</th>\n",
       "      <th>Country</th>\n",
       "      <th>Founded_year</th>\n",
       "      <th>Budget_billion_usd</th>\n",
       "    </tr>\n",
       "  </thead>\n",
       "  <tbody>\n",
       "    <tr>\n",
       "      <th>0</th>\n",
       "      <td>1</td>\n",
       "      <td>NASA</td>\n",
       "      <td>USA</td>\n",
       "      <td>1958</td>\n",
       "      <td>25.20</td>\n",
       "    </tr>\n",
       "    <tr>\n",
       "      <th>1</th>\n",
       "      <td>2</td>\n",
       "      <td>ESA</td>\n",
       "      <td>Europe</td>\n",
       "      <td>1975</td>\n",
       "      <td>7.15</td>\n",
       "    </tr>\n",
       "    <tr>\n",
       "      <th>2</th>\n",
       "      <td>3</td>\n",
       "      <td>Roscosmos</td>\n",
       "      <td>Russia</td>\n",
       "      <td>1992</td>\n",
       "      <td>3.27</td>\n",
       "    </tr>\n",
       "    <tr>\n",
       "      <th>3</th>\n",
       "      <td>4</td>\n",
       "      <td>CNSA</td>\n",
       "      <td>China</td>\n",
       "      <td>1993</td>\n",
       "      <td>11.00</td>\n",
       "    </tr>\n",
       "    <tr>\n",
       "      <th>4</th>\n",
       "      <td>5</td>\n",
       "      <td>ISRO</td>\n",
       "      <td>India</td>\n",
       "      <td>1969</td>\n",
       "      <td>1.90</td>\n",
       "    </tr>\n",
       "  </tbody>\n",
       "</table>\n",
       "</div>"
      ],
      "text/plain": [
       "   Agency_id Agency_name Country  Founded_year  Budget_billion_usd\n",
       "0          1        NASA     USA          1958               25.20\n",
       "1          2         ESA  Europe          1975                7.15\n",
       "2          3   Roscosmos  Russia          1992                3.27\n",
       "3          4        CNSA   China          1993               11.00\n",
       "4          5        ISRO   India          1969                1.90"
      ]
     },
     "execution_count": 3,
     "metadata": {},
     "output_type": "execute_result"
    }
   ],
   "source": [
    "agencies = pd.read_csv(\"../../Data/agencies.csv\")\n",
    "agencies.head()"
   ]
  },
  {
   "cell_type": "code",
   "execution_count": 6,
   "id": "a836880b",
   "metadata": {},
   "outputs": [
    {
     "data": {
      "application/vnd.plotly.v1+json": {
       "config": {
        "plotlyServerURL": "https://plot.ly"
       },
       "data": [
        {
         "hovertemplate": "Country=%{x}<br>Number of Agencies=%{y}<extra></extra>",
         "legendgroup": "",
         "marker": {
          "color": "#636efa",
          "pattern": {
           "shape": ""
          }
         },
         "name": "",
         "orientation": "v",
         "showlegend": false,
         "textposition": "auto",
         "type": "bar",
         "x": [
          "USA",
          "India",
          "Japan",
          "New Zealand",
          "Russia",
          "China",
          "Canada",
          "France",
          "UK",
          "Germany",
          "Italy",
          "South Korea",
          "Europe",
          "Brazil",
          "Australia",
          "Turkey",
          "Mexico",
          "Nigeria",
          "Israel",
          "South Africa",
          "Luxembourg",
          "UAE",
          "Sweden",
          "Norway",
          "Poland",
          "Romania",
          "Portugal",
          "Greece",
          "Czech Republic",
          "Netherlands",
          "Belgium",
          "Finland",
          "Switzerland",
          "Austria",
          "Hungary",
          "Slovenia",
          "Slovakia",
          "Ireland",
          "Spain",
          "Saudi Arabia",
          "Pakistan",
          "Malaysia",
          "Vietnam",
          "Philippines",
          "Kenya",
          "Ethiopia",
          "Egypt",
          "Argentina",
          "Peru",
          "Bolivia",
          "Mongolia",
          "Morocco",
          "Ukraine",
          "Belarus",
          "Lithuania",
          "Latvia",
          "Serbia",
          "Azerbaijan",
          "Bahrain",
          "Qatar",
          "Oman",
          "Tunisia",
          "Algeria",
          "Ghana",
          "Côte d’Ivoire",
          "Angola",
          "Zimbabwe",
          "Bangladesh",
          "Bhutan",
          "Sri Lanka",
          "Nepal",
          "Thailand",
          "Singapore",
          "Iran",
          "Iraq",
          "Kuwait",
          "South Sudan"
         ],
         "xaxis": "x",
         "y": {
          "bdata": "BQICAgEBAQEBAQEBAQEBAQEBAQEBAQEBAQEBAQEBAQEBAQEBAQEBAQEBAQEBAQEBAQEBAQEBAQEBAQEBAQEBAQEBAQEBAQEBAQEBAQE=",
          "dtype": "i1"
         },
         "yaxis": "y"
        }
       ],
       "layout": {
        "barmode": "relative",
        "legend": {
         "tracegroupgap": 0
        },
        "template": {
         "data": {
          "bar": [
           {
            "error_x": {
             "color": "#2a3f5f"
            },
            "error_y": {
             "color": "#2a3f5f"
            },
            "marker": {
             "line": {
              "color": "#E5ECF6",
              "width": 0.5
             },
             "pattern": {
              "fillmode": "overlay",
              "size": 10,
              "solidity": 0.2
             }
            },
            "type": "bar"
           }
          ],
          "barpolar": [
           {
            "marker": {
             "line": {
              "color": "#E5ECF6",
              "width": 0.5
             },
             "pattern": {
              "fillmode": "overlay",
              "size": 10,
              "solidity": 0.2
             }
            },
            "type": "barpolar"
           }
          ],
          "carpet": [
           {
            "aaxis": {
             "endlinecolor": "#2a3f5f",
             "gridcolor": "white",
             "linecolor": "white",
             "minorgridcolor": "white",
             "startlinecolor": "#2a3f5f"
            },
            "baxis": {
             "endlinecolor": "#2a3f5f",
             "gridcolor": "white",
             "linecolor": "white",
             "minorgridcolor": "white",
             "startlinecolor": "#2a3f5f"
            },
            "type": "carpet"
           }
          ],
          "choropleth": [
           {
            "colorbar": {
             "outlinewidth": 0,
             "ticks": ""
            },
            "type": "choropleth"
           }
          ],
          "contour": [
           {
            "colorbar": {
             "outlinewidth": 0,
             "ticks": ""
            },
            "colorscale": [
             [
              0,
              "#0d0887"
             ],
             [
              0.1111111111111111,
              "#46039f"
             ],
             [
              0.2222222222222222,
              "#7201a8"
             ],
             [
              0.3333333333333333,
              "#9c179e"
             ],
             [
              0.4444444444444444,
              "#bd3786"
             ],
             [
              0.5555555555555556,
              "#d8576b"
             ],
             [
              0.6666666666666666,
              "#ed7953"
             ],
             [
              0.7777777777777778,
              "#fb9f3a"
             ],
             [
              0.8888888888888888,
              "#fdca26"
             ],
             [
              1,
              "#f0f921"
             ]
            ],
            "type": "contour"
           }
          ],
          "contourcarpet": [
           {
            "colorbar": {
             "outlinewidth": 0,
             "ticks": ""
            },
            "type": "contourcarpet"
           }
          ],
          "heatmap": [
           {
            "colorbar": {
             "outlinewidth": 0,
             "ticks": ""
            },
            "colorscale": [
             [
              0,
              "#0d0887"
             ],
             [
              0.1111111111111111,
              "#46039f"
             ],
             [
              0.2222222222222222,
              "#7201a8"
             ],
             [
              0.3333333333333333,
              "#9c179e"
             ],
             [
              0.4444444444444444,
              "#bd3786"
             ],
             [
              0.5555555555555556,
              "#d8576b"
             ],
             [
              0.6666666666666666,
              "#ed7953"
             ],
             [
              0.7777777777777778,
              "#fb9f3a"
             ],
             [
              0.8888888888888888,
              "#fdca26"
             ],
             [
              1,
              "#f0f921"
             ]
            ],
            "type": "heatmap"
           }
          ],
          "histogram": [
           {
            "marker": {
             "pattern": {
              "fillmode": "overlay",
              "size": 10,
              "solidity": 0.2
             }
            },
            "type": "histogram"
           }
          ],
          "histogram2d": [
           {
            "colorbar": {
             "outlinewidth": 0,
             "ticks": ""
            },
            "colorscale": [
             [
              0,
              "#0d0887"
             ],
             [
              0.1111111111111111,
              "#46039f"
             ],
             [
              0.2222222222222222,
              "#7201a8"
             ],
             [
              0.3333333333333333,
              "#9c179e"
             ],
             [
              0.4444444444444444,
              "#bd3786"
             ],
             [
              0.5555555555555556,
              "#d8576b"
             ],
             [
              0.6666666666666666,
              "#ed7953"
             ],
             [
              0.7777777777777778,
              "#fb9f3a"
             ],
             [
              0.8888888888888888,
              "#fdca26"
             ],
             [
              1,
              "#f0f921"
             ]
            ],
            "type": "histogram2d"
           }
          ],
          "histogram2dcontour": [
           {
            "colorbar": {
             "outlinewidth": 0,
             "ticks": ""
            },
            "colorscale": [
             [
              0,
              "#0d0887"
             ],
             [
              0.1111111111111111,
              "#46039f"
             ],
             [
              0.2222222222222222,
              "#7201a8"
             ],
             [
              0.3333333333333333,
              "#9c179e"
             ],
             [
              0.4444444444444444,
              "#bd3786"
             ],
             [
              0.5555555555555556,
              "#d8576b"
             ],
             [
              0.6666666666666666,
              "#ed7953"
             ],
             [
              0.7777777777777778,
              "#fb9f3a"
             ],
             [
              0.8888888888888888,
              "#fdca26"
             ],
             [
              1,
              "#f0f921"
             ]
            ],
            "type": "histogram2dcontour"
           }
          ],
          "mesh3d": [
           {
            "colorbar": {
             "outlinewidth": 0,
             "ticks": ""
            },
            "type": "mesh3d"
           }
          ],
          "parcoords": [
           {
            "line": {
             "colorbar": {
              "outlinewidth": 0,
              "ticks": ""
             }
            },
            "type": "parcoords"
           }
          ],
          "pie": [
           {
            "automargin": true,
            "type": "pie"
           }
          ],
          "scatter": [
           {
            "fillpattern": {
             "fillmode": "overlay",
             "size": 10,
             "solidity": 0.2
            },
            "type": "scatter"
           }
          ],
          "scatter3d": [
           {
            "line": {
             "colorbar": {
              "outlinewidth": 0,
              "ticks": ""
             }
            },
            "marker": {
             "colorbar": {
              "outlinewidth": 0,
              "ticks": ""
             }
            },
            "type": "scatter3d"
           }
          ],
          "scattercarpet": [
           {
            "marker": {
             "colorbar": {
              "outlinewidth": 0,
              "ticks": ""
             }
            },
            "type": "scattercarpet"
           }
          ],
          "scattergeo": [
           {
            "marker": {
             "colorbar": {
              "outlinewidth": 0,
              "ticks": ""
             }
            },
            "type": "scattergeo"
           }
          ],
          "scattergl": [
           {
            "marker": {
             "colorbar": {
              "outlinewidth": 0,
              "ticks": ""
             }
            },
            "type": "scattergl"
           }
          ],
          "scattermap": [
           {
            "marker": {
             "colorbar": {
              "outlinewidth": 0,
              "ticks": ""
             }
            },
            "type": "scattermap"
           }
          ],
          "scattermapbox": [
           {
            "marker": {
             "colorbar": {
              "outlinewidth": 0,
              "ticks": ""
             }
            },
            "type": "scattermapbox"
           }
          ],
          "scatterpolar": [
           {
            "marker": {
             "colorbar": {
              "outlinewidth": 0,
              "ticks": ""
             }
            },
            "type": "scatterpolar"
           }
          ],
          "scatterpolargl": [
           {
            "marker": {
             "colorbar": {
              "outlinewidth": 0,
              "ticks": ""
             }
            },
            "type": "scatterpolargl"
           }
          ],
          "scatterternary": [
           {
            "marker": {
             "colorbar": {
              "outlinewidth": 0,
              "ticks": ""
             }
            },
            "type": "scatterternary"
           }
          ],
          "surface": [
           {
            "colorbar": {
             "outlinewidth": 0,
             "ticks": ""
            },
            "colorscale": [
             [
              0,
              "#0d0887"
             ],
             [
              0.1111111111111111,
              "#46039f"
             ],
             [
              0.2222222222222222,
              "#7201a8"
             ],
             [
              0.3333333333333333,
              "#9c179e"
             ],
             [
              0.4444444444444444,
              "#bd3786"
             ],
             [
              0.5555555555555556,
              "#d8576b"
             ],
             [
              0.6666666666666666,
              "#ed7953"
             ],
             [
              0.7777777777777778,
              "#fb9f3a"
             ],
             [
              0.8888888888888888,
              "#fdca26"
             ],
             [
              1,
              "#f0f921"
             ]
            ],
            "type": "surface"
           }
          ],
          "table": [
           {
            "cells": {
             "fill": {
              "color": "#EBF0F8"
             },
             "line": {
              "color": "white"
             }
            },
            "header": {
             "fill": {
              "color": "#C8D4E3"
             },
             "line": {
              "color": "white"
             }
            },
            "type": "table"
           }
          ]
         },
         "layout": {
          "annotationdefaults": {
           "arrowcolor": "#2a3f5f",
           "arrowhead": 0,
           "arrowwidth": 1
          },
          "autotypenumbers": "strict",
          "coloraxis": {
           "colorbar": {
            "outlinewidth": 0,
            "ticks": ""
           }
          },
          "colorscale": {
           "diverging": [
            [
             0,
             "#8e0152"
            ],
            [
             0.1,
             "#c51b7d"
            ],
            [
             0.2,
             "#de77ae"
            ],
            [
             0.3,
             "#f1b6da"
            ],
            [
             0.4,
             "#fde0ef"
            ],
            [
             0.5,
             "#f7f7f7"
            ],
            [
             0.6,
             "#e6f5d0"
            ],
            [
             0.7,
             "#b8e186"
            ],
            [
             0.8,
             "#7fbc41"
            ],
            [
             0.9,
             "#4d9221"
            ],
            [
             1,
             "#276419"
            ]
           ],
           "sequential": [
            [
             0,
             "#0d0887"
            ],
            [
             0.1111111111111111,
             "#46039f"
            ],
            [
             0.2222222222222222,
             "#7201a8"
            ],
            [
             0.3333333333333333,
             "#9c179e"
            ],
            [
             0.4444444444444444,
             "#bd3786"
            ],
            [
             0.5555555555555556,
             "#d8576b"
            ],
            [
             0.6666666666666666,
             "#ed7953"
            ],
            [
             0.7777777777777778,
             "#fb9f3a"
            ],
            [
             0.8888888888888888,
             "#fdca26"
            ],
            [
             1,
             "#f0f921"
            ]
           ],
           "sequentialminus": [
            [
             0,
             "#0d0887"
            ],
            [
             0.1111111111111111,
             "#46039f"
            ],
            [
             0.2222222222222222,
             "#7201a8"
            ],
            [
             0.3333333333333333,
             "#9c179e"
            ],
            [
             0.4444444444444444,
             "#bd3786"
            ],
            [
             0.5555555555555556,
             "#d8576b"
            ],
            [
             0.6666666666666666,
             "#ed7953"
            ],
            [
             0.7777777777777778,
             "#fb9f3a"
            ],
            [
             0.8888888888888888,
             "#fdca26"
            ],
            [
             1,
             "#f0f921"
            ]
           ]
          },
          "colorway": [
           "#636efa",
           "#EF553B",
           "#00cc96",
           "#ab63fa",
           "#FFA15A",
           "#19d3f3",
           "#FF6692",
           "#B6E880",
           "#FF97FF",
           "#FECB52"
          ],
          "font": {
           "color": "#2a3f5f"
          },
          "geo": {
           "bgcolor": "white",
           "lakecolor": "white",
           "landcolor": "#E5ECF6",
           "showlakes": true,
           "showland": true,
           "subunitcolor": "white"
          },
          "hoverlabel": {
           "align": "left"
          },
          "hovermode": "closest",
          "mapbox": {
           "style": "light"
          },
          "paper_bgcolor": "white",
          "plot_bgcolor": "#E5ECF6",
          "polar": {
           "angularaxis": {
            "gridcolor": "white",
            "linecolor": "white",
            "ticks": ""
           },
           "bgcolor": "#E5ECF6",
           "radialaxis": {
            "gridcolor": "white",
            "linecolor": "white",
            "ticks": ""
           }
          },
          "scene": {
           "xaxis": {
            "backgroundcolor": "#E5ECF6",
            "gridcolor": "white",
            "gridwidth": 2,
            "linecolor": "white",
            "showbackground": true,
            "ticks": "",
            "zerolinecolor": "white"
           },
           "yaxis": {
            "backgroundcolor": "#E5ECF6",
            "gridcolor": "white",
            "gridwidth": 2,
            "linecolor": "white",
            "showbackground": true,
            "ticks": "",
            "zerolinecolor": "white"
           },
           "zaxis": {
            "backgroundcolor": "#E5ECF6",
            "gridcolor": "white",
            "gridwidth": 2,
            "linecolor": "white",
            "showbackground": true,
            "ticks": "",
            "zerolinecolor": "white"
           }
          },
          "shapedefaults": {
           "line": {
            "color": "#2a3f5f"
           }
          },
          "ternary": {
           "aaxis": {
            "gridcolor": "white",
            "linecolor": "white",
            "ticks": ""
           },
           "baxis": {
            "gridcolor": "white",
            "linecolor": "white",
            "ticks": ""
           },
           "bgcolor": "#E5ECF6",
           "caxis": {
            "gridcolor": "white",
            "linecolor": "white",
            "ticks": ""
           }
          },
          "title": {
           "x": 0.05
          },
          "xaxis": {
           "automargin": true,
           "gridcolor": "white",
           "linecolor": "white",
           "ticks": "",
           "title": {
            "standoff": 15
           },
           "zerolinecolor": "white",
           "zerolinewidth": 2
          },
          "yaxis": {
           "automargin": true,
           "gridcolor": "white",
           "linecolor": "white",
           "ticks": "",
           "title": {
            "standoff": 15
           },
           "zerolinecolor": "white",
           "zerolinewidth": 2
          }
         }
        },
        "title": {
         "text": "Number of Agencies per Country"
        },
        "xaxis": {
         "anchor": "y",
         "domain": [
          0,
          1
         ],
         "title": {
          "text": "Country"
         }
        },
        "yaxis": {
         "anchor": "x",
         "domain": [
          0,
          1
         ],
         "title": {
          "text": "Number of Agencies"
         }
        }
       }
      }
     },
     "metadata": {},
     "output_type": "display_data"
    }
   ],
   "source": [
    "country_counts = agencies[\"Country\"].value_counts().reset_index()\n",
    "country_counts.columns = [\"Country\", \"Agency_Count\"]\n",
    "\n",
    "fig = px.bar(\n",
    "    country_counts,\n",
    "    x=\"Country\",\n",
    "    y=\"Agency_Count\",\n",
    "    title=\"Number of Agencies per Country\",\n",
    "    labels={\"Agency_Count\": \"Number of Agencies\"}\n",
    ")\n",
    "fig.show()\n"
   ]
  },
  {
   "cell_type": "code",
   "execution_count": 7,
   "id": "e84880ec",
   "metadata": {},
   "outputs": [
    {
     "data": {
      "application/vnd.plotly.v1+json": {
       "config": {
        "plotlyServerURL": "https://plot.ly"
       },
       "data": [
        {
         "hovertemplate": "Year=%{x}<br>Number of Agencies=%{y}<extra></extra>",
         "legendgroup": "",
         "line": {
          "color": "#636efa",
          "dash": "solid"
         },
         "marker": {
          "symbol": "circle"
         },
         "mode": "lines",
         "name": "",
         "orientation": "v",
         "showlegend": false,
         "type": "scatter",
         "x": {
          "bdata": "lgemB6kHrAexB7QHtwe8B78HwwfEB8UHxwfIB8kHygfPB9AH0QfSB9MH1AfWB9kH2gfbB9wH3QfeB98H4AfhB+IH4wc=",
          "dtype": "i2"
         },
         "xaxis": "x",
         "y": {
          "bdata": "AQECAQICAQEBAwEDAgQBAQECAQMCAgIFCAEBAgMCBAEMBQ==",
          "dtype": "i1"
         },
         "yaxis": "y"
        }
       ],
       "layout": {
        "legend": {
         "tracegroupgap": 0
        },
        "template": {
         "data": {
          "bar": [
           {
            "error_x": {
             "color": "#2a3f5f"
            },
            "error_y": {
             "color": "#2a3f5f"
            },
            "marker": {
             "line": {
              "color": "#E5ECF6",
              "width": 0.5
             },
             "pattern": {
              "fillmode": "overlay",
              "size": 10,
              "solidity": 0.2
             }
            },
            "type": "bar"
           }
          ],
          "barpolar": [
           {
            "marker": {
             "line": {
              "color": "#E5ECF6",
              "width": 0.5
             },
             "pattern": {
              "fillmode": "overlay",
              "size": 10,
              "solidity": 0.2
             }
            },
            "type": "barpolar"
           }
          ],
          "carpet": [
           {
            "aaxis": {
             "endlinecolor": "#2a3f5f",
             "gridcolor": "white",
             "linecolor": "white",
             "minorgridcolor": "white",
             "startlinecolor": "#2a3f5f"
            },
            "baxis": {
             "endlinecolor": "#2a3f5f",
             "gridcolor": "white",
             "linecolor": "white",
             "minorgridcolor": "white",
             "startlinecolor": "#2a3f5f"
            },
            "type": "carpet"
           }
          ],
          "choropleth": [
           {
            "colorbar": {
             "outlinewidth": 0,
             "ticks": ""
            },
            "type": "choropleth"
           }
          ],
          "contour": [
           {
            "colorbar": {
             "outlinewidth": 0,
             "ticks": ""
            },
            "colorscale": [
             [
              0,
              "#0d0887"
             ],
             [
              0.1111111111111111,
              "#46039f"
             ],
             [
              0.2222222222222222,
              "#7201a8"
             ],
             [
              0.3333333333333333,
              "#9c179e"
             ],
             [
              0.4444444444444444,
              "#bd3786"
             ],
             [
              0.5555555555555556,
              "#d8576b"
             ],
             [
              0.6666666666666666,
              "#ed7953"
             ],
             [
              0.7777777777777778,
              "#fb9f3a"
             ],
             [
              0.8888888888888888,
              "#fdca26"
             ],
             [
              1,
              "#f0f921"
             ]
            ],
            "type": "contour"
           }
          ],
          "contourcarpet": [
           {
            "colorbar": {
             "outlinewidth": 0,
             "ticks": ""
            },
            "type": "contourcarpet"
           }
          ],
          "heatmap": [
           {
            "colorbar": {
             "outlinewidth": 0,
             "ticks": ""
            },
            "colorscale": [
             [
              0,
              "#0d0887"
             ],
             [
              0.1111111111111111,
              "#46039f"
             ],
             [
              0.2222222222222222,
              "#7201a8"
             ],
             [
              0.3333333333333333,
              "#9c179e"
             ],
             [
              0.4444444444444444,
              "#bd3786"
             ],
             [
              0.5555555555555556,
              "#d8576b"
             ],
             [
              0.6666666666666666,
              "#ed7953"
             ],
             [
              0.7777777777777778,
              "#fb9f3a"
             ],
             [
              0.8888888888888888,
              "#fdca26"
             ],
             [
              1,
              "#f0f921"
             ]
            ],
            "type": "heatmap"
           }
          ],
          "histogram": [
           {
            "marker": {
             "pattern": {
              "fillmode": "overlay",
              "size": 10,
              "solidity": 0.2
             }
            },
            "type": "histogram"
           }
          ],
          "histogram2d": [
           {
            "colorbar": {
             "outlinewidth": 0,
             "ticks": ""
            },
            "colorscale": [
             [
              0,
              "#0d0887"
             ],
             [
              0.1111111111111111,
              "#46039f"
             ],
             [
              0.2222222222222222,
              "#7201a8"
             ],
             [
              0.3333333333333333,
              "#9c179e"
             ],
             [
              0.4444444444444444,
              "#bd3786"
             ],
             [
              0.5555555555555556,
              "#d8576b"
             ],
             [
              0.6666666666666666,
              "#ed7953"
             ],
             [
              0.7777777777777778,
              "#fb9f3a"
             ],
             [
              0.8888888888888888,
              "#fdca26"
             ],
             [
              1,
              "#f0f921"
             ]
            ],
            "type": "histogram2d"
           }
          ],
          "histogram2dcontour": [
           {
            "colorbar": {
             "outlinewidth": 0,
             "ticks": ""
            },
            "colorscale": [
             [
              0,
              "#0d0887"
             ],
             [
              0.1111111111111111,
              "#46039f"
             ],
             [
              0.2222222222222222,
              "#7201a8"
             ],
             [
              0.3333333333333333,
              "#9c179e"
             ],
             [
              0.4444444444444444,
              "#bd3786"
             ],
             [
              0.5555555555555556,
              "#d8576b"
             ],
             [
              0.6666666666666666,
              "#ed7953"
             ],
             [
              0.7777777777777778,
              "#fb9f3a"
             ],
             [
              0.8888888888888888,
              "#fdca26"
             ],
             [
              1,
              "#f0f921"
             ]
            ],
            "type": "histogram2dcontour"
           }
          ],
          "mesh3d": [
           {
            "colorbar": {
             "outlinewidth": 0,
             "ticks": ""
            },
            "type": "mesh3d"
           }
          ],
          "parcoords": [
           {
            "line": {
             "colorbar": {
              "outlinewidth": 0,
              "ticks": ""
             }
            },
            "type": "parcoords"
           }
          ],
          "pie": [
           {
            "automargin": true,
            "type": "pie"
           }
          ],
          "scatter": [
           {
            "fillpattern": {
             "fillmode": "overlay",
             "size": 10,
             "solidity": 0.2
            },
            "type": "scatter"
           }
          ],
          "scatter3d": [
           {
            "line": {
             "colorbar": {
              "outlinewidth": 0,
              "ticks": ""
             }
            },
            "marker": {
             "colorbar": {
              "outlinewidth": 0,
              "ticks": ""
             }
            },
            "type": "scatter3d"
           }
          ],
          "scattercarpet": [
           {
            "marker": {
             "colorbar": {
              "outlinewidth": 0,
              "ticks": ""
             }
            },
            "type": "scattercarpet"
           }
          ],
          "scattergeo": [
           {
            "marker": {
             "colorbar": {
              "outlinewidth": 0,
              "ticks": ""
             }
            },
            "type": "scattergeo"
           }
          ],
          "scattergl": [
           {
            "marker": {
             "colorbar": {
              "outlinewidth": 0,
              "ticks": ""
             }
            },
            "type": "scattergl"
           }
          ],
          "scattermap": [
           {
            "marker": {
             "colorbar": {
              "outlinewidth": 0,
              "ticks": ""
             }
            },
            "type": "scattermap"
           }
          ],
          "scattermapbox": [
           {
            "marker": {
             "colorbar": {
              "outlinewidth": 0,
              "ticks": ""
             }
            },
            "type": "scattermapbox"
           }
          ],
          "scatterpolar": [
           {
            "marker": {
             "colorbar": {
              "outlinewidth": 0,
              "ticks": ""
             }
            },
            "type": "scatterpolar"
           }
          ],
          "scatterpolargl": [
           {
            "marker": {
             "colorbar": {
              "outlinewidth": 0,
              "ticks": ""
             }
            },
            "type": "scatterpolargl"
           }
          ],
          "scatterternary": [
           {
            "marker": {
             "colorbar": {
              "outlinewidth": 0,
              "ticks": ""
             }
            },
            "type": "scatterternary"
           }
          ],
          "surface": [
           {
            "colorbar": {
             "outlinewidth": 0,
             "ticks": ""
            },
            "colorscale": [
             [
              0,
              "#0d0887"
             ],
             [
              0.1111111111111111,
              "#46039f"
             ],
             [
              0.2222222222222222,
              "#7201a8"
             ],
             [
              0.3333333333333333,
              "#9c179e"
             ],
             [
              0.4444444444444444,
              "#bd3786"
             ],
             [
              0.5555555555555556,
              "#d8576b"
             ],
             [
              0.6666666666666666,
              "#ed7953"
             ],
             [
              0.7777777777777778,
              "#fb9f3a"
             ],
             [
              0.8888888888888888,
              "#fdca26"
             ],
             [
              1,
              "#f0f921"
             ]
            ],
            "type": "surface"
           }
          ],
          "table": [
           {
            "cells": {
             "fill": {
              "color": "#EBF0F8"
             },
             "line": {
              "color": "white"
             }
            },
            "header": {
             "fill": {
              "color": "#C8D4E3"
             },
             "line": {
              "color": "white"
             }
            },
            "type": "table"
           }
          ]
         },
         "layout": {
          "annotationdefaults": {
           "arrowcolor": "#2a3f5f",
           "arrowhead": 0,
           "arrowwidth": 1
          },
          "autotypenumbers": "strict",
          "coloraxis": {
           "colorbar": {
            "outlinewidth": 0,
            "ticks": ""
           }
          },
          "colorscale": {
           "diverging": [
            [
             0,
             "#8e0152"
            ],
            [
             0.1,
             "#c51b7d"
            ],
            [
             0.2,
             "#de77ae"
            ],
            [
             0.3,
             "#f1b6da"
            ],
            [
             0.4,
             "#fde0ef"
            ],
            [
             0.5,
             "#f7f7f7"
            ],
            [
             0.6,
             "#e6f5d0"
            ],
            [
             0.7,
             "#b8e186"
            ],
            [
             0.8,
             "#7fbc41"
            ],
            [
             0.9,
             "#4d9221"
            ],
            [
             1,
             "#276419"
            ]
           ],
           "sequential": [
            [
             0,
             "#0d0887"
            ],
            [
             0.1111111111111111,
             "#46039f"
            ],
            [
             0.2222222222222222,
             "#7201a8"
            ],
            [
             0.3333333333333333,
             "#9c179e"
            ],
            [
             0.4444444444444444,
             "#bd3786"
            ],
            [
             0.5555555555555556,
             "#d8576b"
            ],
            [
             0.6666666666666666,
             "#ed7953"
            ],
            [
             0.7777777777777778,
             "#fb9f3a"
            ],
            [
             0.8888888888888888,
             "#fdca26"
            ],
            [
             1,
             "#f0f921"
            ]
           ],
           "sequentialminus": [
            [
             0,
             "#0d0887"
            ],
            [
             0.1111111111111111,
             "#46039f"
            ],
            [
             0.2222222222222222,
             "#7201a8"
            ],
            [
             0.3333333333333333,
             "#9c179e"
            ],
            [
             0.4444444444444444,
             "#bd3786"
            ],
            [
             0.5555555555555556,
             "#d8576b"
            ],
            [
             0.6666666666666666,
             "#ed7953"
            ],
            [
             0.7777777777777778,
             "#fb9f3a"
            ],
            [
             0.8888888888888888,
             "#fdca26"
            ],
            [
             1,
             "#f0f921"
            ]
           ]
          },
          "colorway": [
           "#636efa",
           "#EF553B",
           "#00cc96",
           "#ab63fa",
           "#FFA15A",
           "#19d3f3",
           "#FF6692",
           "#B6E880",
           "#FF97FF",
           "#FECB52"
          ],
          "font": {
           "color": "#2a3f5f"
          },
          "geo": {
           "bgcolor": "white",
           "lakecolor": "white",
           "landcolor": "#E5ECF6",
           "showlakes": true,
           "showland": true,
           "subunitcolor": "white"
          },
          "hoverlabel": {
           "align": "left"
          },
          "hovermode": "closest",
          "mapbox": {
           "style": "light"
          },
          "paper_bgcolor": "white",
          "plot_bgcolor": "#E5ECF6",
          "polar": {
           "angularaxis": {
            "gridcolor": "white",
            "linecolor": "white",
            "ticks": ""
           },
           "bgcolor": "#E5ECF6",
           "radialaxis": {
            "gridcolor": "white",
            "linecolor": "white",
            "ticks": ""
           }
          },
          "scene": {
           "xaxis": {
            "backgroundcolor": "#E5ECF6",
            "gridcolor": "white",
            "gridwidth": 2,
            "linecolor": "white",
            "showbackground": true,
            "ticks": "",
            "zerolinecolor": "white"
           },
           "yaxis": {
            "backgroundcolor": "#E5ECF6",
            "gridcolor": "white",
            "gridwidth": 2,
            "linecolor": "white",
            "showbackground": true,
            "ticks": "",
            "zerolinecolor": "white"
           },
           "zaxis": {
            "backgroundcolor": "#E5ECF6",
            "gridcolor": "white",
            "gridwidth": 2,
            "linecolor": "white",
            "showbackground": true,
            "ticks": "",
            "zerolinecolor": "white"
           }
          },
          "shapedefaults": {
           "line": {
            "color": "#2a3f5f"
           }
          },
          "ternary": {
           "aaxis": {
            "gridcolor": "white",
            "linecolor": "white",
            "ticks": ""
           },
           "baxis": {
            "gridcolor": "white",
            "linecolor": "white",
            "ticks": ""
           },
           "bgcolor": "#E5ECF6",
           "caxis": {
            "gridcolor": "white",
            "linecolor": "white",
            "ticks": ""
           }
          },
          "title": {
           "x": 0.05
          },
          "xaxis": {
           "automargin": true,
           "gridcolor": "white",
           "linecolor": "white",
           "ticks": "",
           "title": {
            "standoff": 15
           },
           "zerolinecolor": "white",
           "zerolinewidth": 2
          },
          "yaxis": {
           "automargin": true,
           "gridcolor": "white",
           "linecolor": "white",
           "ticks": "",
           "title": {
            "standoff": 15
           },
           "zerolinecolor": "white",
           "zerolinewidth": 2
          }
         }
        },
        "title": {
         "text": "Agencies Founded Over Time"
        },
        "xaxis": {
         "anchor": "y",
         "domain": [
          0,
          1
         ],
         "title": {
          "text": "Year"
         }
        },
        "yaxis": {
         "anchor": "x",
         "domain": [
          0,
          1
         ],
         "title": {
          "text": "Number of Agencies"
         }
        }
       }
      }
     },
     "metadata": {},
     "output_type": "display_data"
    }
   ],
   "source": [
    "\n",
    "founded = agencies.groupby(\"Founded_year\").size().reset_index(name=\"Count\")\n",
    "\n",
    "fig = px.line(\n",
    "    founded,\n",
    "    x=\"Founded_year\",\n",
    "    y=\"Count\",\n",
    "    title=\"Agencies Founded Over Time\",\n",
    "    labels={\"Founded_year\": \"Year\", \"Count\": \"Number of Agencies\"}\n",
    ")\n",
    "fig.show()\n"
   ]
  },
  {
   "cell_type": "code",
   "execution_count": 10,
   "id": "3f8e799a",
   "metadata": {},
   "outputs": [
    {
     "data": {
      "application/vnd.plotly.v1+json": {
       "config": {
        "plotlyServerURL": "https://plot.ly"
       },
       "data": [
        {
         "hovertemplate": "Country=USA<br>Agency_name=%{x}<br>Budget_billion_usd=%{marker.size}<extra></extra>",
         "legendgroup": "USA",
         "marker": {
          "color": "#636efa",
          "size": {
           "bdata": "MzMzMzMzOUAAAAAAAAAAQAAAAAAAAPg/mpmZmZmZyT+amZmZmZm5Pw==",
           "dtype": "f8"
          },
          "sizemode": "area",
          "sizeref": 0.063,
          "symbol": "circle"
         },
         "mode": "markers",
         "name": "USA",
         "orientation": "v",
         "showlegend": true,
         "type": "scatter",
         "x": [
          "NASA",
          "SpaceX",
          "Blue Origin",
          "Virgin Galactic",
          "Relativity Space"
         ],
         "xaxis": "x",
         "y": {
          "bdata": "MzMzMzMzOUAAAAAAAAAAQAAAAAAAAPg/mpmZmZmZyT+amZmZmZm5Pw==",
          "dtype": "f8"
         },
         "yaxis": "y"
        },
        {
         "hovertemplate": "Country=Europe<br>Agency_name=%{x}<br>Budget_billion_usd=%{marker.size}<extra></extra>",
         "legendgroup": "Europe",
         "marker": {
          "color": "#EF553B",
          "size": {
           "bdata": "mpmZmZmZHEA=",
           "dtype": "f8"
          },
          "sizemode": "area",
          "sizeref": 0.063,
          "symbol": "circle"
         },
         "mode": "markers",
         "name": "Europe",
         "orientation": "v",
         "showlegend": true,
         "type": "scatter",
         "x": [
          "ESA"
         ],
         "xaxis": "x",
         "y": {
          "bdata": "mpmZmZmZHEA=",
          "dtype": "f8"
         },
         "yaxis": "y"
        },
        {
         "hovertemplate": "Country=Russia<br>Agency_name=%{x}<br>Budget_billion_usd=%{marker.size}<extra></extra>",
         "legendgroup": "Russia",
         "marker": {
          "color": "#00cc96",
          "size": {
           "bdata": "KVyPwvUoCkA=",
           "dtype": "f8"
          },
          "sizemode": "area",
          "sizeref": 0.063,
          "symbol": "circle"
         },
         "mode": "markers",
         "name": "Russia",
         "orientation": "v",
         "showlegend": true,
         "type": "scatter",
         "x": [
          "Roscosmos"
         ],
         "xaxis": "x",
         "y": {
          "bdata": "KVyPwvUoCkA=",
          "dtype": "f8"
         },
         "yaxis": "y"
        },
        {
         "hovertemplate": "Country=China<br>Agency_name=%{x}<br>Budget_billion_usd=%{marker.size}<extra></extra>",
         "legendgroup": "China",
         "marker": {
          "color": "#ab63fa",
          "size": {
           "bdata": "AAAAAAAAJkA=",
           "dtype": "f8"
          },
          "sizemode": "area",
          "sizeref": 0.063,
          "symbol": "circle"
         },
         "mode": "markers",
         "name": "China",
         "orientation": "v",
         "showlegend": true,
         "type": "scatter",
         "x": [
          "CNSA"
         ],
         "xaxis": "x",
         "y": {
          "bdata": "AAAAAAAAJkA=",
          "dtype": "f8"
         },
         "yaxis": "y"
        },
        {
         "hovertemplate": "Country=India<br>Agency_name=%{x}<br>Budget_billion_usd=%{marker.size}<extra></extra>",
         "legendgroup": "India",
         "marker": {
          "color": "#FFA15A",
          "size": {
           "bdata": "ZmZmZmZm/j8AAAAAAADgPw==",
           "dtype": "f8"
          },
          "sizemode": "area",
          "sizeref": 0.063,
          "symbol": "circle"
         },
         "mode": "markers",
         "name": "India",
         "orientation": "v",
         "showlegend": true,
         "type": "scatter",
         "x": [
          "ISRO",
          "NSIL"
         ],
         "xaxis": "x",
         "y": {
          "bdata": "ZmZmZmZm/j8AAAAAAADgPw==",
          "dtype": "f8"
         },
         "yaxis": "y"
        },
        {
         "hovertemplate": "Country=Japan<br>Agency_name=%{x}<br>Budget_billion_usd=%{marker.size}<extra></extra>",
         "legendgroup": "Japan",
         "marker": {
          "color": "#19d3f3",
          "size": {
           "bdata": "ZmZmZmZmAECamZmZmZnJPw==",
           "dtype": "f8"
          },
          "sizemode": "area",
          "sizeref": 0.063,
          "symbol": "circle"
         },
         "mode": "markers",
         "name": "Japan",
         "orientation": "v",
         "showlegend": true,
         "type": "scatter",
         "x": [
          "JAXA",
          "QZS Program"
         ],
         "xaxis": "x",
         "y": {
          "bdata": "ZmZmZmZmAECamZmZmZnJPw==",
          "dtype": "f8"
         },
         "yaxis": "y"
        },
        {
         "hovertemplate": "Country=Canada<br>Agency_name=%{x}<br>Budget_billion_usd=%{marker.size}<extra></extra>",
         "legendgroup": "Canada",
         "marker": {
          "color": "#FF6692",
          "size": {
           "bdata": "MzMzMzMz0z8=",
           "dtype": "f8"
          },
          "sizemode": "area",
          "sizeref": 0.063,
          "symbol": "circle"
         },
         "mode": "markers",
         "name": "Canada",
         "orientation": "v",
         "showlegend": true,
         "type": "scatter",
         "x": [
          "CSA"
         ],
         "xaxis": "x",
         "y": {
          "bdata": "MzMzMzMz0z8=",
          "dtype": "f8"
         },
         "yaxis": "y"
        },
        {
         "hovertemplate": "Country=France<br>Agency_name=%{x}<br>Budget_billion_usd=%{marker.size}<extra></extra>",
         "legendgroup": "France",
         "marker": {
          "color": "#B6E880",
          "size": {
           "bdata": "AAAAAAAAAEA=",
           "dtype": "f8"
          },
          "sizemode": "area",
          "sizeref": 0.063,
          "symbol": "circle"
         },
         "mode": "markers",
         "name": "France",
         "orientation": "v",
         "showlegend": true,
         "type": "scatter",
         "x": [
          "CNES"
         ],
         "xaxis": "x",
         "y": {
          "bdata": "AAAAAAAAAEA=",
          "dtype": "f8"
         },
         "yaxis": "y"
        },
        {
         "hovertemplate": "Country=UK<br>Agency_name=%{x}<br>Budget_billion_usd=%{marker.size}<extra></extra>",
         "legendgroup": "UK",
         "marker": {
          "color": "#FF97FF",
          "size": {
           "bdata": "zczMzMzM5D8=",
           "dtype": "f8"
          },
          "sizemode": "area",
          "sizeref": 0.063,
          "symbol": "circle"
         },
         "mode": "markers",
         "name": "UK",
         "orientation": "v",
         "showlegend": true,
         "type": "scatter",
         "x": [
          "UK Space Agency"
         ],
         "xaxis": "x",
         "y": {
          "bdata": "zczMzMzM5D8=",
          "dtype": "f8"
         },
         "yaxis": "y"
        },
        {
         "hovertemplate": "Country=Germany<br>Agency_name=%{x}<br>Budget_billion_usd=%{marker.size}<extra></extra>",
         "legendgroup": "Germany",
         "marker": {
          "color": "#FECB52",
          "size": {
           "bdata": "mpmZmZmZ8T8=",
           "dtype": "f8"
          },
          "sizemode": "area",
          "sizeref": 0.063,
          "symbol": "circle"
         },
         "mode": "markers",
         "name": "Germany",
         "orientation": "v",
         "showlegend": true,
         "type": "scatter",
         "x": [
          "DLR"
         ],
         "xaxis": "x",
         "y": {
          "bdata": "mpmZmZmZ8T8=",
          "dtype": "f8"
         },
         "yaxis": "y"
        },
        {
         "hovertemplate": "Country=Italy<br>Agency_name=%{x}<br>Budget_billion_usd=%{marker.size}<extra></extra>",
         "legendgroup": "Italy",
         "marker": {
          "color": "#636efa",
          "size": {
           "bdata": "ZmZmZmZm7j8=",
           "dtype": "f8"
          },
          "sizemode": "area",
          "sizeref": 0.063,
          "symbol": "circle"
         },
         "mode": "markers",
         "name": "Italy",
         "orientation": "v",
         "showlegend": true,
         "type": "scatter",
         "x": [
          "ASI"
         ],
         "xaxis": "x",
         "y": {
          "bdata": "ZmZmZmZm7j8=",
          "dtype": "f8"
         },
         "yaxis": "y"
        },
        {
         "hovertemplate": "Country=South Korea<br>Agency_name=%{x}<br>Budget_billion_usd=%{marker.size}<extra></extra>",
         "legendgroup": "South Korea",
         "marker": {
          "color": "#EF553B",
          "size": {
           "bdata": "zczMzMzM3D8=",
           "dtype": "f8"
          },
          "sizemode": "area",
          "sizeref": 0.063,
          "symbol": "circle"
         },
         "mode": "markers",
         "name": "South Korea",
         "orientation": "v",
         "showlegend": true,
         "type": "scatter",
         "x": [
          "KARI"
         ],
         "xaxis": "x",
         "y": {
          "bdata": "zczMzMzM3D8=",
          "dtype": "f8"
         },
         "yaxis": "y"
        },
        {
         "hovertemplate": "Country=Brazil<br>Agency_name=%{x}<br>Budget_billion_usd=%{marker.size}<extra></extra>",
         "legendgroup": "Brazil",
         "marker": {
          "color": "#00cc96",
          "size": {
           "bdata": "mpmZmZmZ2T8=",
           "dtype": "f8"
          },
          "sizemode": "area",
          "sizeref": 0.063,
          "symbol": "circle"
         },
         "mode": "markers",
         "name": "Brazil",
         "orientation": "v",
         "showlegend": true,
         "type": "scatter",
         "x": [
          "AEB"
         ],
         "xaxis": "x",
         "y": {
          "bdata": "mpmZmZmZ2T8=",
          "dtype": "f8"
         },
         "yaxis": "y"
        },
        {
         "hovertemplate": "Country=Australia<br>Agency_name=%{x}<br>Budget_billion_usd=%{marker.size}<extra></extra>",
         "legendgroup": "Australia",
         "marker": {
          "color": "#ab63fa",
          "size": {
           "bdata": "AAAAAAAA0D8=",
           "dtype": "f8"
          },
          "sizemode": "area",
          "sizeref": 0.063,
          "symbol": "circle"
         },
         "mode": "markers",
         "name": "Australia",
         "orientation": "v",
         "showlegend": true,
         "type": "scatter",
         "x": [
          "Australian Space Agency"
         ],
         "xaxis": "x",
         "y": {
          "bdata": "AAAAAAAA0D8=",
          "dtype": "f8"
         },
         "yaxis": "y"
        },
        {
         "hovertemplate": "Country=Mexico<br>Agency_name=%{x}<br>Budget_billion_usd=%{marker.size}<extra></extra>",
         "legendgroup": "Mexico",
         "marker": {
          "color": "#FFA15A",
          "size": {
           "bdata": "AAAAAAAAAAA=",
           "dtype": "f8"
          },
          "sizemode": "area",
          "sizeref": 0.063,
          "symbol": "circle"
         },
         "mode": "markers",
         "name": "Mexico",
         "orientation": "v",
         "showlegend": true,
         "type": "scatter",
         "x": [
          "Mexican Space Agency"
         ],
         "xaxis": "x",
         "y": {
          "bdata": "AAAAAAAAAAA=",
          "dtype": "f8"
         },
         "yaxis": "y"
        },
        {
         "hovertemplate": "Country=Turkey<br>Agency_name=%{x}<br>Budget_billion_usd=%{marker.size}<extra></extra>",
         "legendgroup": "Turkey",
         "marker": {
          "color": "#19d3f3",
          "size": {
           "bdata": "rkfhehSu1z8=",
           "dtype": "f8"
          },
          "sizemode": "area",
          "sizeref": 0.063,
          "symbol": "circle"
         },
         "mode": "markers",
         "name": "Turkey",
         "orientation": "v",
         "showlegend": true,
         "type": "scatter",
         "x": [
          "Turkish Space Agency"
         ],
         "xaxis": "x",
         "y": {
          "bdata": "rkfhehSu1z8=",
          "dtype": "f8"
         },
         "yaxis": "y"
        },
        {
         "hovertemplate": "Country=Nigeria<br>Agency_name=%{x}<br>Budget_billion_usd=%{marker.size}<extra></extra>",
         "legendgroup": "Nigeria",
         "marker": {
          "color": "#FF6692",
          "size": {
           "bdata": "mpmZmZmZqT8=",
           "dtype": "f8"
          },
          "sizemode": "area",
          "sizeref": 0.063,
          "symbol": "circle"
         },
         "mode": "markers",
         "name": "Nigeria",
         "orientation": "v",
         "showlegend": true,
         "type": "scatter",
         "x": [
          "NASRDA"
         ],
         "xaxis": "x",
         "y": {
          "bdata": "mpmZmZmZqT8=",
          "dtype": "f8"
         },
         "yaxis": "y"
        },
        {
         "hovertemplate": "Country=Israel<br>Agency_name=%{x}<br>Budget_billion_usd=%{marker.size}<extra></extra>",
         "legendgroup": "Israel",
         "marker": {
          "color": "#B6E880",
          "size": {
           "bdata": "mpmZmZmZuT8=",
           "dtype": "f8"
          },
          "sizemode": "area",
          "sizeref": 0.063,
          "symbol": "circle"
         },
         "mode": "markers",
         "name": "Israel",
         "orientation": "v",
         "showlegend": true,
         "type": "scatter",
         "x": [
          "ISRAEL Space Agency"
         ],
         "xaxis": "x",
         "y": {
          "bdata": "mpmZmZmZuT8=",
          "dtype": "f8"
         },
         "yaxis": "y"
        },
        {
         "hovertemplate": "Country=South Africa<br>Agency_name=%{x}<br>Budget_billion_usd=%{marker.size}<extra></extra>",
         "legendgroup": "South Africa",
         "marker": {
          "color": "#FF97FF",
          "size": {
           "bdata": "MzMzMzMzwz8=",
           "dtype": "f8"
          },
          "sizemode": "area",
          "sizeref": 0.063,
          "symbol": "circle"
         },
         "mode": "markers",
         "name": "South Africa",
         "orientation": "v",
         "showlegend": true,
         "type": "scatter",
         "x": [
          "SANSA"
         ],
         "xaxis": "x",
         "y": {
          "bdata": "MzMzMzMzwz8=",
          "dtype": "f8"
         },
         "yaxis": "y"
        },
        {
         "hovertemplate": "Country=Luxembourg<br>Agency_name=%{x}<br>Budget_billion_usd=%{marker.size}<extra></extra>",
         "legendgroup": "Luxembourg",
         "marker": {
          "color": "#FECB52",
          "size": {
           "bdata": "mpmZmZmZuT8=",
           "dtype": "f8"
          },
          "sizemode": "area",
          "sizeref": 0.063,
          "symbol": "circle"
         },
         "mode": "markers",
         "name": "Luxembourg",
         "orientation": "v",
         "showlegend": true,
         "type": "scatter",
         "x": [
          "Luxembourg Space Agency"
         ],
         "xaxis": "x",
         "y": {
          "bdata": "mpmZmZmZuT8=",
          "dtype": "f8"
         },
         "yaxis": "y"
        },
        {
         "hovertemplate": "Country=New Zealand<br>Agency_name=%{x}<br>Budget_billion_usd=%{marker.size}<extra></extra>",
         "legendgroup": "New Zealand",
         "marker": {
          "color": "#636efa",
          "size": {
           "bdata": "uB6F61G4vj8zMzMzMzPTPw==",
           "dtype": "f8"
          },
          "sizemode": "area",
          "sizeref": 0.063,
          "symbol": "circle"
         },
         "mode": "markers",
         "name": "New Zealand",
         "orientation": "v",
         "showlegend": true,
         "type": "scatter",
         "x": [
          "New Zealand Space Agency",
          "Rocket Lab"
         ],
         "xaxis": "x",
         "y": {
          "bdata": "uB6F61G4vj8zMzMzMzPTPw==",
          "dtype": "f8"
         },
         "yaxis": "y"
        },
        {
         "hovertemplate": "Country=UAE<br>Agency_name=%{x}<br>Budget_billion_usd=%{marker.size}<extra></extra>",
         "legendgroup": "UAE",
         "marker": {
          "color": "#EF553B",
          "size": {
           "bdata": "SOF6FK5H4T8=",
           "dtype": "f8"
          },
          "sizemode": "area",
          "sizeref": 0.063,
          "symbol": "circle"
         },
         "mode": "markers",
         "name": "UAE",
         "orientation": "v",
         "showlegend": true,
         "type": "scatter",
         "x": [
          "UAE Space Agency"
         ],
         "xaxis": "x",
         "y": {
          "bdata": "SOF6FK5H4T8=",
          "dtype": "f8"
         },
         "yaxis": "y"
        },
        {
         "hovertemplate": "Country=Sweden<br>Agency_name=%{x}<br>Budget_billion_usd=%{marker.size}<extra></extra>",
         "legendgroup": "Sweden",
         "marker": {
          "color": "#00cc96",
          "size": {
           "bdata": "mpmZmZmZyT8=",
           "dtype": "f8"
          },
          "sizemode": "area",
          "sizeref": 0.063,
          "symbol": "circle"
         },
         "mode": "markers",
         "name": "Sweden",
         "orientation": "v",
         "showlegend": true,
         "type": "scatter",
         "x": [
          "SRI (Sweden)"
         ],
         "xaxis": "x",
         "y": {
          "bdata": "mpmZmZmZyT8=",
          "dtype": "f8"
         },
         "yaxis": "y"
        },
        {
         "hovertemplate": "Country=Norway<br>Agency_name=%{x}<br>Budget_billion_usd=%{marker.size}<extra></extra>",
         "legendgroup": "Norway",
         "marker": {
          "color": "#ab63fa",
          "size": {
           "bdata": "mpmZmZmZuT8=",
           "dtype": "f8"
          },
          "sizemode": "area",
          "sizeref": 0.063,
          "symbol": "circle"
         },
         "mode": "markers",
         "name": "Norway",
         "orientation": "v",
         "showlegend": true,
         "type": "scatter",
         "x": [
          "Norwegian Space Agency"
         ],
         "xaxis": "x",
         "y": {
          "bdata": "mpmZmZmZuT8=",
          "dtype": "f8"
         },
         "yaxis": "y"
        },
        {
         "hovertemplate": "Country=Poland<br>Agency_name=%{x}<br>Budget_billion_usd=%{marker.size}<extra></extra>",
         "legendgroup": "Poland",
         "marker": {
          "color": "#FFA15A",
          "size": {
           "bdata": "exSuR+F6tD8=",
           "dtype": "f8"
          },
          "sizemode": "area",
          "sizeref": 0.063,
          "symbol": "circle"
         },
         "mode": "markers",
         "name": "Poland",
         "orientation": "v",
         "showlegend": true,
         "type": "scatter",
         "x": [
          "POLSA"
         ],
         "xaxis": "x",
         "y": {
          "bdata": "exSuR+F6tD8=",
          "dtype": "f8"
         },
         "yaxis": "y"
        },
        {
         "hovertemplate": "Country=Romania<br>Agency_name=%{x}<br>Budget_billion_usd=%{marker.size}<extra></extra>",
         "legendgroup": "Romania",
         "marker": {
          "color": "#19d3f3",
          "size": {
           "bdata": "mpmZmZmZqT8=",
           "dtype": "f8"
          },
          "sizemode": "area",
          "sizeref": 0.063,
          "symbol": "circle"
         },
         "mode": "markers",
         "name": "Romania",
         "orientation": "v",
         "showlegend": true,
         "type": "scatter",
         "x": [
          "ROSA"
         ],
         "xaxis": "x",
         "y": {
          "bdata": "mpmZmZmZqT8=",
          "dtype": "f8"
         },
         "yaxis": "y"
        },
        {
         "hovertemplate": "Country=Portugal<br>Agency_name=%{x}<br>Budget_billion_usd=%{marker.size}<extra></extra>",
         "legendgroup": "Portugal",
         "marker": {
          "color": "#FF6692",
          "size": {
           "bdata": "uB6F61G4rj8=",
           "dtype": "f8"
          },
          "sizemode": "area",
          "sizeref": 0.063,
          "symbol": "circle"
         },
         "mode": "markers",
         "name": "Portugal",
         "orientation": "v",
         "showlegend": true,
         "type": "scatter",
         "x": [
          "Portuguese Space Agency"
         ],
         "xaxis": "x",
         "y": {
          "bdata": "uB6F61G4rj8=",
          "dtype": "f8"
         },
         "yaxis": "y"
        },
        {
         "hovertemplate": "Country=Greece<br>Agency_name=%{x}<br>Budget_billion_usd=%{marker.size}<extra></extra>",
         "legendgroup": "Greece",
         "marker": {
          "color": "#B6E880",
          "size": {
           "bdata": "exSuR+F6pD8=",
           "dtype": "f8"
          },
          "sizemode": "area",
          "sizeref": 0.063,
          "symbol": "circle"
         },
         "mode": "markers",
         "name": "Greece",
         "orientation": "v",
         "showlegend": true,
         "type": "scatter",
         "x": [
          "Greek Space Agency"
         ],
         "xaxis": "x",
         "y": {
          "bdata": "exSuR+F6pD8=",
          "dtype": "f8"
         },
         "yaxis": "y"
        },
        {
         "hovertemplate": "Country=Czech Republic<br>Agency_name=%{x}<br>Budget_billion_usd=%{marker.size}<extra></extra>",
         "legendgroup": "Czech Republic",
         "marker": {
          "color": "#FF97FF",
          "size": {
           "bdata": "mpmZmZmZqT8=",
           "dtype": "f8"
          },
          "sizemode": "area",
          "sizeref": 0.063,
          "symbol": "circle"
         },
         "mode": "markers",
         "name": "Czech Republic",
         "orientation": "v",
         "showlegend": true,
         "type": "scatter",
         "x": [
          "Czech Space Office"
         ],
         "xaxis": "x",
         "y": {
          "bdata": "mpmZmZmZqT8=",
          "dtype": "f8"
         },
         "yaxis": "y"
        },
        {
         "hovertemplate": "Country=Netherlands<br>Agency_name=%{x}<br>Budget_billion_usd=%{marker.size}<extra></extra>",
         "legendgroup": "Netherlands",
         "marker": {
          "color": "#FECB52",
          "size": {
           "bdata": "KVyPwvUovD8=",
           "dtype": "f8"
          },
          "sizemode": "area",
          "sizeref": 0.063,
          "symbol": "circle"
         },
         "mode": "markers",
         "name": "Netherlands",
         "orientation": "v",
         "showlegend": true,
         "type": "scatter",
         "x": [
          "Netherlands Space Office"
         ],
         "xaxis": "x",
         "y": {
          "bdata": "KVyPwvUovD8=",
          "dtype": "f8"
         },
         "yaxis": "y"
        },
        {
         "hovertemplate": "Country=Belgium<br>Agency_name=%{x}<br>Budget_billion_usd=%{marker.size}<extra></extra>",
         "legendgroup": "Belgium",
         "marker": {
          "color": "#636efa",
          "size": {
           "bdata": "CtejcD0Ktz8=",
           "dtype": "f8"
          },
          "sizemode": "area",
          "sizeref": 0.063,
          "symbol": "circle"
         },
         "mode": "markers",
         "name": "Belgium",
         "orientation": "v",
         "showlegend": true,
         "type": "scatter",
         "x": [
          "Belgian Institute for Space Aeronomy"
         ],
         "xaxis": "x",
         "y": {
          "bdata": "CtejcD0Ktz8=",
          "dtype": "f8"
         },
         "yaxis": "y"
        },
        {
         "hovertemplate": "Country=Finland<br>Agency_name=%{x}<br>Budget_billion_usd=%{marker.size}<extra></extra>",
         "legendgroup": "Finland",
         "marker": {
          "color": "#EF553B",
          "size": {
           "bdata": "uB6F61G4rj8=",
           "dtype": "f8"
          },
          "sizemode": "area",
          "sizeref": 0.063,
          "symbol": "circle"
         },
         "mode": "markers",
         "name": "Finland",
         "orientation": "v",
         "showlegend": true,
         "type": "scatter",
         "x": [
          "Finnish Space Committee"
         ],
         "xaxis": "x",
         "y": {
          "bdata": "uB6F61G4rj8=",
          "dtype": "f8"
         },
         "yaxis": "y"
        },
        {
         "hovertemplate": "Country=Switzerland<br>Agency_name=%{x}<br>Budget_billion_usd=%{marker.size}<extra></extra>",
         "legendgroup": "Switzerland",
         "marker": {
          "color": "#00cc96",
          "size": {
           "bdata": "uB6F61G4vj8=",
           "dtype": "f8"
          },
          "sizemode": "area",
          "sizeref": 0.063,
          "symbol": "circle"
         },
         "mode": "markers",
         "name": "Switzerland",
         "orientation": "v",
         "showlegend": true,
         "type": "scatter",
         "x": [
          "Swiss Space Office"
         ],
         "xaxis": "x",
         "y": {
          "bdata": "uB6F61G4vj8=",
          "dtype": "f8"
         },
         "yaxis": "y"
        },
        {
         "hovertemplate": "Country=Austria<br>Agency_name=%{x}<br>Budget_billion_usd=%{marker.size}<extra></extra>",
         "legendgroup": "Austria",
         "marker": {
          "color": "#ab63fa",
          "size": {
           "bdata": "7FG4HoXrsT8=",
           "dtype": "f8"
          },
          "sizemode": "area",
          "sizeref": 0.063,
          "symbol": "circle"
         },
         "mode": "markers",
         "name": "Austria",
         "orientation": "v",
         "showlegend": true,
         "type": "scatter",
         "x": [
          "Austrian Space Agency"
         ],
         "xaxis": "x",
         "y": {
          "bdata": "7FG4HoXrsT8=",
          "dtype": "f8"
         },
         "yaxis": "y"
        },
        {
         "hovertemplate": "Country=Hungary<br>Agency_name=%{x}<br>Budget_billion_usd=%{marker.size}<extra></extra>",
         "legendgroup": "Hungary",
         "marker": {
          "color": "#FFA15A",
          "size": {
           "bdata": "exSuR+F6pD8=",
           "dtype": "f8"
          },
          "sizemode": "area",
          "sizeref": 0.063,
          "symbol": "circle"
         },
         "mode": "markers",
         "name": "Hungary",
         "orientation": "v",
         "showlegend": true,
         "type": "scatter",
         "x": [
          "Hungarian Space Office"
         ],
         "xaxis": "x",
         "y": {
          "bdata": "exSuR+F6pD8=",
          "dtype": "f8"
         },
         "yaxis": "y"
        },
        {
         "hovertemplate": "Country=Slovenia<br>Agency_name=%{x}<br>Budget_billion_usd=%{marker.size}<extra></extra>",
         "legendgroup": "Slovenia",
         "marker": {
          "color": "#19d3f3",
          "size": {
           "bdata": "exSuR+F6lD8=",
           "dtype": "f8"
          },
          "sizemode": "area",
          "sizeref": 0.063,
          "symbol": "circle"
         },
         "mode": "markers",
         "name": "Slovenia",
         "orientation": "v",
         "showlegend": true,
         "type": "scatter",
         "x": [
          "Slovenian Centre of Excellence"
         ],
         "xaxis": "x",
         "y": {
          "bdata": "exSuR+F6lD8=",
          "dtype": "f8"
         },
         "yaxis": "y"
        },
        {
         "hovertemplate": "Country=Slovakia<br>Agency_name=%{x}<br>Budget_billion_usd=%{marker.size}<extra></extra>",
         "legendgroup": "Slovakia",
         "marker": {
          "color": "#FF6692",
          "size": {
           "bdata": "exSuR+F6lD8=",
           "dtype": "f8"
          },
          "sizemode": "area",
          "sizeref": 0.063,
          "symbol": "circle"
         },
         "mode": "markers",
         "name": "Slovakia",
         "orientation": "v",
         "showlegend": true,
         "type": "scatter",
         "x": [
          "Slovak Space Office"
         ],
         "xaxis": "x",
         "y": {
          "bdata": "exSuR+F6lD8=",
          "dtype": "f8"
         },
         "yaxis": "y"
        },
        {
         "hovertemplate": "Country=Ireland<br>Agency_name=%{x}<br>Budget_billion_usd=%{marker.size}<extra></extra>",
         "legendgroup": "Ireland",
         "marker": {
          "color": "#B6E880",
          "size": {
           "bdata": "uB6F61G4nj8=",
           "dtype": "f8"
          },
          "sizemode": "area",
          "sizeref": 0.063,
          "symbol": "circle"
         },
         "mode": "markers",
         "name": "Ireland",
         "orientation": "v",
         "showlegend": true,
         "type": "scatter",
         "x": [
          "Irish Space Office"
         ],
         "xaxis": "x",
         "y": {
          "bdata": "uB6F61G4nj8=",
          "dtype": "f8"
         },
         "yaxis": "y"
        },
        {
         "hovertemplate": "Country=Spain<br>Agency_name=%{x}<br>Budget_billion_usd=%{marker.size}<extra></extra>",
         "legendgroup": "Spain",
         "marker": {
          "color": "#FF97FF",
          "size": {
           "bdata": "mpmZmZmZ6T8=",
           "dtype": "f8"
          },
          "sizemode": "area",
          "sizeref": 0.063,
          "symbol": "circle"
         },
         "mode": "markers",
         "name": "Spain",
         "orientation": "v",
         "showlegend": true,
         "type": "scatter",
         "x": [
          "Spanish INTA"
         ],
         "xaxis": "x",
         "y": {
          "bdata": "mpmZmZmZ6T8=",
          "dtype": "f8"
         },
         "yaxis": "y"
        },
        {
         "hovertemplate": "Country=Saudi Arabia<br>Agency_name=%{x}<br>Budget_billion_usd=%{marker.size}<extra></extra>",
         "legendgroup": "Saudi Arabia",
         "marker": {
          "color": "#FECB52",
          "size": {
           "bdata": "mpmZmZmZ2T8=",
           "dtype": "f8"
          },
          "sizemode": "area",
          "sizeref": 0.063,
          "symbol": "circle"
         },
         "mode": "markers",
         "name": "Saudi Arabia",
         "orientation": "v",
         "showlegend": true,
         "type": "scatter",
         "x": [
          "KACST Space Program"
         ],
         "xaxis": "x",
         "y": {
          "bdata": "mpmZmZmZ2T8=",
          "dtype": "f8"
         },
         "yaxis": "y"
        },
        {
         "hovertemplate": "Country=Pakistan<br>Agency_name=%{x}<br>Budget_billion_usd=%{marker.size}<extra></extra>",
         "legendgroup": "Pakistan",
         "marker": {
          "color": "#636efa",
          "size": {
           "bdata": "exSuR+F6tD8=",
           "dtype": "f8"
          },
          "sizemode": "area",
          "sizeref": 0.063,
          "symbol": "circle"
         },
         "mode": "markers",
         "name": "Pakistan",
         "orientation": "v",
         "showlegend": true,
         "type": "scatter",
         "x": [
          "SUPARCO"
         ],
         "xaxis": "x",
         "y": {
          "bdata": "exSuR+F6tD8=",
          "dtype": "f8"
         },
         "yaxis": "y"
        },
        {
         "hovertemplate": "Country=Malaysia<br>Agency_name=%{x}<br>Budget_billion_usd=%{marker.size}<extra></extra>",
         "legendgroup": "Malaysia",
         "marker": {
          "color": "#EF553B",
          "size": {
           "bdata": "uB6F61G4rj8=",
           "dtype": "f8"
          },
          "sizemode": "area",
          "sizeref": 0.063,
          "symbol": "circle"
         },
         "mode": "markers",
         "name": "Malaysia",
         "orientation": "v",
         "showlegend": true,
         "type": "scatter",
         "x": [
          "ANGKASA"
         ],
         "xaxis": "x",
         "y": {
          "bdata": "uB6F61G4rj8=",
          "dtype": "f8"
         },
         "yaxis": "y"
        },
        {
         "hovertemplate": "Country=Vietnam<br>Agency_name=%{x}<br>Budget_billion_usd=%{marker.size}<extra></extra>",
         "legendgroup": "Vietnam",
         "marker": {
          "color": "#00cc96",
          "size": {
           "bdata": "MzMzMzMzwz8=",
           "dtype": "f8"
          },
          "sizemode": "area",
          "sizeref": 0.063,
          "symbol": "circle"
         },
         "mode": "markers",
         "name": "Vietnam",
         "orientation": "v",
         "showlegend": true,
         "type": "scatter",
         "x": [
          "Vietnam Space Center"
         ],
         "xaxis": "x",
         "y": {
          "bdata": "MzMzMzMzwz8=",
          "dtype": "f8"
         },
         "yaxis": "y"
        },
        {
         "hovertemplate": "Country=Philippines<br>Agency_name=%{x}<br>Budget_billion_usd=%{marker.size}<extra></extra>",
         "legendgroup": "Philippines",
         "marker": {
          "color": "#ab63fa",
          "size": {
           "bdata": "exSuR+F6tD8=",
           "dtype": "f8"
          },
          "sizemode": "area",
          "sizeref": 0.063,
          "symbol": "circle"
         },
         "mode": "markers",
         "name": "Philippines",
         "orientation": "v",
         "showlegend": true,
         "type": "scatter",
         "x": [
          "Philippine Space Agency"
         ],
         "xaxis": "x",
         "y": {
          "bdata": "exSuR+F6tD8=",
          "dtype": "f8"
         },
         "yaxis": "y"
        },
        {
         "hovertemplate": "Country=Kenya<br>Agency_name=%{x}<br>Budget_billion_usd=%{marker.size}<extra></extra>",
         "legendgroup": "Kenya",
         "marker": {
          "color": "#FFA15A",
          "size": {
           "bdata": "uB6F61G4nj8=",
           "dtype": "f8"
          },
          "sizemode": "area",
          "sizeref": 0.063,
          "symbol": "circle"
         },
         "mode": "markers",
         "name": "Kenya",
         "orientation": "v",
         "showlegend": true,
         "type": "scatter",
         "x": [
          "Kenya Space Agency"
         ],
         "xaxis": "x",
         "y": {
          "bdata": "uB6F61G4nj8=",
          "dtype": "f8"
         },
         "yaxis": "y"
        },
        {
         "hovertemplate": "Country=Ethiopia<br>Agency_name=%{x}<br>Budget_billion_usd=%{marker.size}<extra></extra>",
         "legendgroup": "Ethiopia",
         "marker": {
          "color": "#19d3f3",
          "size": {
           "bdata": "exSuR+F6lD8=",
           "dtype": "f8"
          },
          "sizemode": "area",
          "sizeref": 0.063,
          "symbol": "circle"
         },
         "mode": "markers",
         "name": "Ethiopia",
         "orientation": "v",
         "showlegend": true,
         "type": "scatter",
         "x": [
          "Ethiopian Space Science"
         ],
         "xaxis": "x",
         "y": {
          "bdata": "exSuR+F6lD8=",
          "dtype": "f8"
         },
         "yaxis": "y"
        },
        {
         "hovertemplate": "Country=Egypt<br>Agency_name=%{x}<br>Budget_billion_usd=%{marker.size}<extra></extra>",
         "legendgroup": "Egypt",
         "marker": {
          "color": "#FF6692",
          "size": {
           "bdata": "mpmZmZmZuT8=",
           "dtype": "f8"
          },
          "sizemode": "area",
          "sizeref": 0.063,
          "symbol": "circle"
         },
         "mode": "markers",
         "name": "Egypt",
         "orientation": "v",
         "showlegend": true,
         "type": "scatter",
         "x": [
          "Egyptian Space Agency"
         ],
         "xaxis": "x",
         "y": {
          "bdata": "mpmZmZmZuT8=",
          "dtype": "f8"
         },
         "yaxis": "y"
        },
        {
         "hovertemplate": "Country=Argentina<br>Agency_name=%{x}<br>Budget_billion_usd=%{marker.size}<extra></extra>",
         "legendgroup": "Argentina",
         "marker": {
          "color": "#B6E880",
          "size": {
           "bdata": "mpmZmZmZuT8=",
           "dtype": "f8"
          },
          "sizemode": "area",
          "sizeref": 0.063,
          "symbol": "circle"
         },
         "mode": "markers",
         "name": "Argentina",
         "orientation": "v",
         "showlegend": true,
         "type": "scatter",
         "x": [
          "Argentine CONAE"
         ],
         "xaxis": "x",
         "y": {
          "bdata": "mpmZmZmZuT8=",
          "dtype": "f8"
         },
         "yaxis": "y"
        },
        {
         "hovertemplate": "Country=Peru<br>Agency_name=%{x}<br>Budget_billion_usd=%{marker.size}<extra></extra>",
         "legendgroup": "Peru",
         "marker": {
          "color": "#FF97FF",
          "size": {
           "bdata": "uB6F61G4nj8=",
           "dtype": "f8"
          },
          "sizemode": "area",
          "sizeref": 0.063,
          "symbol": "circle"
         },
         "mode": "markers",
         "name": "Peru",
         "orientation": "v",
         "showlegend": true,
         "type": "scatter",
         "x": [
          "Peruvian Space Agency"
         ],
         "xaxis": "x",
         "y": {
          "bdata": "uB6F61G4nj8=",
          "dtype": "f8"
         },
         "yaxis": "y"
        },
        {
         "hovertemplate": "Country=Bolivia<br>Agency_name=%{x}<br>Budget_billion_usd=%{marker.size}<extra></extra>",
         "legendgroup": "Bolivia",
         "marker": {
          "color": "#FECB52",
          "size": {
           "bdata": "uB6F61G4nj8=",
           "dtype": "f8"
          },
          "sizemode": "area",
          "sizeref": 0.063,
          "symbol": "circle"
         },
         "mode": "markers",
         "name": "Bolivia",
         "orientation": "v",
         "showlegend": true,
         "type": "scatter",
         "x": [
          "Bolivian Space Agency"
         ],
         "xaxis": "x",
         "y": {
          "bdata": "uB6F61G4nj8=",
          "dtype": "f8"
         },
         "yaxis": "y"
        },
        {
         "hovertemplate": "Country=Mongolia<br>Agency_name=%{x}<br>Budget_billion_usd=%{marker.size}<extra></extra>",
         "legendgroup": "Mongolia",
         "marker": {
          "color": "#636efa",
          "size": {
           "bdata": "exSuR+F6lD8=",
           "dtype": "f8"
          },
          "sizemode": "area",
          "sizeref": 0.063,
          "symbol": "circle"
         },
         "mode": "markers",
         "name": "Mongolia",
         "orientation": "v",
         "showlegend": true,
         "type": "scatter",
         "x": [
          "Mongolian Space Agency"
         ],
         "xaxis": "x",
         "y": {
          "bdata": "exSuR+F6lD8=",
          "dtype": "f8"
         },
         "yaxis": "y"
        },
        {
         "hovertemplate": "Country=Morocco<br>Agency_name=%{x}<br>Budget_billion_usd=%{marker.size}<extra></extra>",
         "legendgroup": "Morocco",
         "marker": {
          "color": "#EF553B",
          "size": {
           "bdata": "uB6F61G4nj8=",
           "dtype": "f8"
          },
          "sizemode": "area",
          "sizeref": 0.063,
          "symbol": "circle"
         },
         "mode": "markers",
         "name": "Morocco",
         "orientation": "v",
         "showlegend": true,
         "type": "scatter",
         "x": [
          "Moroccan CRERS"
         ],
         "xaxis": "x",
         "y": {
          "bdata": "uB6F61G4nj8=",
          "dtype": "f8"
         },
         "yaxis": "y"
        },
        {
         "hovertemplate": "Country=Ukraine<br>Agency_name=%{x}<br>Budget_billion_usd=%{marker.size}<extra></extra>",
         "legendgroup": "Ukraine",
         "marker": {
          "color": "#00cc96",
          "size": {
           "bdata": "mpmZmZmZyT8=",
           "dtype": "f8"
          },
          "sizemode": "area",
          "sizeref": 0.063,
          "symbol": "circle"
         },
         "mode": "markers",
         "name": "Ukraine",
         "orientation": "v",
         "showlegend": true,
         "type": "scatter",
         "x": [
          "Ukrainian Space Agency"
         ],
         "xaxis": "x",
         "y": {
          "bdata": "mpmZmZmZyT8=",
          "dtype": "f8"
         },
         "yaxis": "y"
        },
        {
         "hovertemplate": "Country=Belarus<br>Agency_name=%{x}<br>Budget_billion_usd=%{marker.size}<extra></extra>",
         "legendgroup": "Belarus",
         "marker": {
          "color": "#ab63fa",
          "size": {
           "bdata": "exSuR+F6pD8=",
           "dtype": "f8"
          },
          "sizemode": "area",
          "sizeref": 0.063,
          "symbol": "circle"
         },
         "mode": "markers",
         "name": "Belarus",
         "orientation": "v",
         "showlegend": true,
         "type": "scatter",
         "x": [
          "Belarus Space"
         ],
         "xaxis": "x",
         "y": {
          "bdata": "exSuR+F6pD8=",
          "dtype": "f8"
         },
         "yaxis": "y"
        },
        {
         "hovertemplate": "Country=Lithuania<br>Agency_name=%{x}<br>Budget_billion_usd=%{marker.size}<extra></extra>",
         "legendgroup": "Lithuania",
         "marker": {
          "color": "#FFA15A",
          "size": {
           "bdata": "exSuR+F6lD8=",
           "dtype": "f8"
          },
          "sizemode": "area",
          "sizeref": 0.063,
          "symbol": "circle"
         },
         "mode": "markers",
         "name": "Lithuania",
         "orientation": "v",
         "showlegend": true,
         "type": "scatter",
         "x": [
          "Lithuanian Space Association"
         ],
         "xaxis": "x",
         "y": {
          "bdata": "exSuR+F6lD8=",
          "dtype": "f8"
         },
         "yaxis": "y"
        },
        {
         "hovertemplate": "Country=Latvia<br>Agency_name=%{x}<br>Budget_billion_usd=%{marker.size}<extra></extra>",
         "legendgroup": "Latvia",
         "marker": {
          "color": "#19d3f3",
          "size": {
           "bdata": "exSuR+F6lD8=",
           "dtype": "f8"
          },
          "sizemode": "area",
          "sizeref": 0.063,
          "symbol": "circle"
         },
         "mode": "markers",
         "name": "Latvia",
         "orientation": "v",
         "showlegend": true,
         "type": "scatter",
         "x": [
          "Latvian Space Office"
         ],
         "xaxis": "x",
         "y": {
          "bdata": "exSuR+F6lD8=",
          "dtype": "f8"
         },
         "yaxis": "y"
        },
        {
         "hovertemplate": "Country=Serbia<br>Agency_name=%{x}<br>Budget_billion_usd=%{marker.size}<extra></extra>",
         "legendgroup": "Serbia",
         "marker": {
          "color": "#FF6692",
          "size": {
           "bdata": "exSuR+F6lD8=",
           "dtype": "f8"
          },
          "sizemode": "area",
          "sizeref": 0.063,
          "symbol": "circle"
         },
         "mode": "markers",
         "name": "Serbia",
         "orientation": "v",
         "showlegend": true,
         "type": "scatter",
         "x": [
          "Serbian Office for Space Sciences"
         ],
         "xaxis": "x",
         "y": {
          "bdata": "exSuR+F6lD8=",
          "dtype": "f8"
         },
         "yaxis": "y"
        },
        {
         "hovertemplate": "Country=Azerbaijan<br>Agency_name=%{x}<br>Budget_billion_usd=%{marker.size}<extra></extra>",
         "legendgroup": "Azerbaijan",
         "marker": {
          "color": "#B6E880",
          "size": {
           "bdata": "mpmZmZmZqT8=",
           "dtype": "f8"
          },
          "sizemode": "area",
          "sizeref": 0.063,
          "symbol": "circle"
         },
         "mode": "markers",
         "name": "Azerbaijan",
         "orientation": "v",
         "showlegend": true,
         "type": "scatter",
         "x": [
          "Azercosmos"
         ],
         "xaxis": "x",
         "y": {
          "bdata": "mpmZmZmZqT8=",
          "dtype": "f8"
         },
         "yaxis": "y"
        },
        {
         "hovertemplate": "Country=Bahrain<br>Agency_name=%{x}<br>Budget_billion_usd=%{marker.size}<extra></extra>",
         "legendgroup": "Bahrain",
         "marker": {
          "color": "#FF97FF",
          "size": {
           "bdata": "uB6F61G4nj8=",
           "dtype": "f8"
          },
          "sizemode": "area",
          "sizeref": 0.063,
          "symbol": "circle"
         },
         "mode": "markers",
         "name": "Bahrain",
         "orientation": "v",
         "showlegend": true,
         "type": "scatter",
         "x": [
          "Bahrain NSSA"
         ],
         "xaxis": "x",
         "y": {
          "bdata": "uB6F61G4nj8=",
          "dtype": "f8"
         },
         "yaxis": "y"
        },
        {
         "hovertemplate": "Country=Qatar<br>Agency_name=%{x}<br>Budget_billion_usd=%{marker.size}<extra></extra>",
         "legendgroup": "Qatar",
         "marker": {
          "color": "#FECB52",
          "size": {
           "bdata": "mpmZmZmZqT8=",
           "dtype": "f8"
          },
          "sizemode": "area",
          "sizeref": 0.063,
          "symbol": "circle"
         },
         "mode": "markers",
         "name": "Qatar",
         "orientation": "v",
         "showlegend": true,
         "type": "scatter",
         "x": [
          "Qatar Space Program"
         ],
         "xaxis": "x",
         "y": {
          "bdata": "mpmZmZmZqT8=",
          "dtype": "f8"
         },
         "yaxis": "y"
        },
        {
         "hovertemplate": "Country=Oman<br>Agency_name=%{x}<br>Budget_billion_usd=%{marker.size}<extra></extra>",
         "legendgroup": "Oman",
         "marker": {
          "color": "#636efa",
          "size": {
           "bdata": "uB6F61G4nj8=",
           "dtype": "f8"
          },
          "sizemode": "area",
          "sizeref": 0.063,
          "symbol": "circle"
         },
         "mode": "markers",
         "name": "Oman",
         "orientation": "v",
         "showlegend": true,
         "type": "scatter",
         "x": [
          "Oman National Space Program"
         ],
         "xaxis": "x",
         "y": {
          "bdata": "uB6F61G4nj8=",
          "dtype": "f8"
         },
         "yaxis": "y"
        },
        {
         "hovertemplate": "Country=Tunisia<br>Agency_name=%{x}<br>Budget_billion_usd=%{marker.size}<extra></extra>",
         "legendgroup": "Tunisia",
         "marker": {
          "color": "#EF553B",
          "size": {
           "bdata": "exSuR+F6lD8=",
           "dtype": "f8"
          },
          "sizemode": "area",
          "sizeref": 0.063,
          "symbol": "circle"
         },
         "mode": "markers",
         "name": "Tunisia",
         "orientation": "v",
         "showlegend": true,
         "type": "scatter",
         "x": [
          "Tunisian Space Association"
         ],
         "xaxis": "x",
         "y": {
          "bdata": "exSuR+F6lD8=",
          "dtype": "f8"
         },
         "yaxis": "y"
        },
        {
         "hovertemplate": "Country=Algeria<br>Agency_name=%{x}<br>Budget_billion_usd=%{marker.size}<extra></extra>",
         "legendgroup": "Algeria",
         "marker": {
          "color": "#00cc96",
          "size": {
           "bdata": "7FG4HoXrsT8=",
           "dtype": "f8"
          },
          "sizemode": "area",
          "sizeref": 0.063,
          "symbol": "circle"
         },
         "mode": "markers",
         "name": "Algeria",
         "orientation": "v",
         "showlegend": true,
         "type": "scatter",
         "x": [
          "ASAL"
         ],
         "xaxis": "x",
         "y": {
          "bdata": "7FG4HoXrsT8=",
          "dtype": "f8"
         },
         "yaxis": "y"
        },
        {
         "hovertemplate": "Country=Ghana<br>Agency_name=%{x}<br>Budget_billion_usd=%{marker.size}<extra></extra>",
         "legendgroup": "Ghana",
         "marker": {
          "color": "#ab63fa",
          "size": {
           "bdata": "exSuR+F6lD8=",
           "dtype": "f8"
          },
          "sizemode": "area",
          "sizeref": 0.063,
          "symbol": "circle"
         },
         "mode": "markers",
         "name": "Ghana",
         "orientation": "v",
         "showlegend": true,
         "type": "scatter",
         "x": [
          "Ghana Space Science"
         ],
         "xaxis": "x",
         "y": {
          "bdata": "exSuR+F6lD8=",
          "dtype": "f8"
         },
         "yaxis": "y"
        },
        {
         "hovertemplate": "Country=Côte d’Ivoire<br>Agency_name=%{x}<br>Budget_billion_usd=%{marker.size}<extra></extra>",
         "legendgroup": "Côte d’Ivoire",
         "marker": {
          "color": "#FFA15A",
          "size": {
           "bdata": "exSuR+F6hD8=",
           "dtype": "f8"
          },
          "sizemode": "area",
          "sizeref": 0.063,
          "symbol": "circle"
         },
         "mode": "markers",
         "name": "Côte d’Ivoire",
         "orientation": "v",
         "showlegend": true,
         "type": "scatter",
         "x": [
          "Ivory Coast Space Initiative"
         ],
         "xaxis": "x",
         "y": {
          "bdata": "exSuR+F6hD8=",
          "dtype": "f8"
         },
         "yaxis": "y"
        },
        {
         "hovertemplate": "Country=Angola<br>Agency_name=%{x}<br>Budget_billion_usd=%{marker.size}<extra></extra>",
         "legendgroup": "Angola",
         "marker": {
          "color": "#19d3f3",
          "size": {
           "bdata": "uB6F61G4nj8=",
           "dtype": "f8"
          },
          "sizemode": "area",
          "sizeref": 0.063,
          "symbol": "circle"
         },
         "mode": "markers",
         "name": "Angola",
         "orientation": "v",
         "showlegend": true,
         "type": "scatter",
         "x": [
          "Angolan National Space"
         ],
         "xaxis": "x",
         "y": {
          "bdata": "uB6F61G4nj8=",
          "dtype": "f8"
         },
         "yaxis": "y"
        },
        {
         "hovertemplate": "Country=Zimbabwe<br>Agency_name=%{x}<br>Budget_billion_usd=%{marker.size}<extra></extra>",
         "legendgroup": "Zimbabwe",
         "marker": {
          "color": "#FF6692",
          "size": {
           "bdata": "exSuR+F6lD8=",
           "dtype": "f8"
          },
          "sizemode": "area",
          "sizeref": 0.063,
          "symbol": "circle"
         },
         "mode": "markers",
         "name": "Zimbabwe",
         "orientation": "v",
         "showlegend": true,
         "type": "scatter",
         "x": [
          "ZINGSA"
         ],
         "xaxis": "x",
         "y": {
          "bdata": "exSuR+F6lD8=",
          "dtype": "f8"
         },
         "yaxis": "y"
        },
        {
         "hovertemplate": "Country=Bangladesh<br>Agency_name=%{x}<br>Budget_billion_usd=%{marker.size}<extra></extra>",
         "legendgroup": "Bangladesh",
         "marker": {
          "color": "#B6E880",
          "size": {
           "bdata": "mpmZmZmZqT8=",
           "dtype": "f8"
          },
          "sizemode": "area",
          "sizeref": 0.063,
          "symbol": "circle"
         },
         "mode": "markers",
         "name": "Bangladesh",
         "orientation": "v",
         "showlegend": true,
         "type": "scatter",
         "x": [
          "SPARRSO"
         ],
         "xaxis": "x",
         "y": {
          "bdata": "mpmZmZmZqT8=",
          "dtype": "f8"
         },
         "yaxis": "y"
        },
        {
         "hovertemplate": "Country=Bhutan<br>Agency_name=%{x}<br>Budget_billion_usd=%{marker.size}<extra></extra>",
         "legendgroup": "Bhutan",
         "marker": {
          "color": "#FF97FF",
          "size": {
           "bdata": "exSuR+F6hD8=",
           "dtype": "f8"
          },
          "sizemode": "area",
          "sizeref": 0.063,
          "symbol": "circle"
         },
         "mode": "markers",
         "name": "Bhutan",
         "orientation": "v",
         "showlegend": true,
         "type": "scatter",
         "x": [
          "Bhutan Space Program"
         ],
         "xaxis": "x",
         "y": {
          "bdata": "exSuR+F6hD8=",
          "dtype": "f8"
         },
         "yaxis": "y"
        },
        {
         "hovertemplate": "Country=Sri Lanka<br>Agency_name=%{x}<br>Budget_billion_usd=%{marker.size}<extra></extra>",
         "legendgroup": "Sri Lanka",
         "marker": {
          "color": "#FECB52",
          "size": {
           "bdata": "exSuR+F6lD8=",
           "dtype": "f8"
          },
          "sizemode": "area",
          "sizeref": 0.063,
          "symbol": "circle"
         },
         "mode": "markers",
         "name": "Sri Lanka",
         "orientation": "v",
         "showlegend": true,
         "type": "scatter",
         "x": [
          "Sri Lanka Space Program"
         ],
         "xaxis": "x",
         "y": {
          "bdata": "exSuR+F6lD8=",
          "dtype": "f8"
         },
         "yaxis": "y"
        },
        {
         "hovertemplate": "Country=Nepal<br>Agency_name=%{x}<br>Budget_billion_usd=%{marker.size}<extra></extra>",
         "legendgroup": "Nepal",
         "marker": {
          "color": "#636efa",
          "size": {
           "bdata": "exSuR+F6hD8=",
           "dtype": "f8"
          },
          "sizemode": "area",
          "sizeref": 0.063,
          "symbol": "circle"
         },
         "mode": "markers",
         "name": "Nepal",
         "orientation": "v",
         "showlegend": true,
         "type": "scatter",
         "x": [
          "NESRA"
         ],
         "xaxis": "x",
         "y": {
          "bdata": "exSuR+F6hD8=",
          "dtype": "f8"
         },
         "yaxis": "y"
        },
        {
         "hovertemplate": "Country=Thailand<br>Agency_name=%{x}<br>Budget_billion_usd=%{marker.size}<extra></extra>",
         "legendgroup": "Thailand",
         "marker": {
          "color": "#EF553B",
          "size": {
           "bdata": "mpmZmZmZuT8=",
           "dtype": "f8"
          },
          "sizemode": "area",
          "sizeref": 0.063,
          "symbol": "circle"
         },
         "mode": "markers",
         "name": "Thailand",
         "orientation": "v",
         "showlegend": true,
         "type": "scatter",
         "x": [
          "GISTDA"
         ],
         "xaxis": "x",
         "y": {
          "bdata": "mpmZmZmZuT8=",
          "dtype": "f8"
         },
         "yaxis": "y"
        },
        {
         "hovertemplate": "Country=Singapore<br>Agency_name=%{x}<br>Budget_billion_usd=%{marker.size}<extra></extra>",
         "legendgroup": "Singapore",
         "marker": {
          "color": "#00cc96",
          "size": {
           "bdata": "uB6F61G4rj8=",
           "dtype": "f8"
          },
          "sizemode": "area",
          "sizeref": 0.063,
          "symbol": "circle"
         },
         "mode": "markers",
         "name": "Singapore",
         "orientation": "v",
         "showlegend": true,
         "type": "scatter",
         "x": [
          "Singapore Space & Technology"
         ],
         "xaxis": "x",
         "y": {
          "bdata": "uB6F61G4rj8=",
          "dtype": "f8"
         },
         "yaxis": "y"
        },
        {
         "hovertemplate": "Country=Iran<br>Agency_name=%{x}<br>Budget_billion_usd=%{marker.size}<extra></extra>",
         "legendgroup": "Iran",
         "marker": {
          "color": "#ab63fa",
          "size": {
           "bdata": "mpmZmZmZyT8=",
           "dtype": "f8"
          },
          "sizemode": "area",
          "sizeref": 0.063,
          "symbol": "circle"
         },
         "mode": "markers",
         "name": "Iran",
         "orientation": "v",
         "showlegend": true,
         "type": "scatter",
         "x": [
          "Iranian Space Agency"
         ],
         "xaxis": "x",
         "y": {
          "bdata": "mpmZmZmZyT8=",
          "dtype": "f8"
         },
         "yaxis": "y"
        },
        {
         "hovertemplate": "Country=Iraq<br>Agency_name=%{x}<br>Budget_billion_usd=%{marker.size}<extra></extra>",
         "legendgroup": "Iraq",
         "marker": {
          "color": "#FFA15A",
          "size": {
           "bdata": "exSuR+F6lD8=",
           "dtype": "f8"
          },
          "sizemode": "area",
          "sizeref": 0.063,
          "symbol": "circle"
         },
         "mode": "markers",
         "name": "Iraq",
         "orientation": "v",
         "showlegend": true,
         "type": "scatter",
         "x": [
          "Iraq Space Program"
         ],
         "xaxis": "x",
         "y": {
          "bdata": "exSuR+F6lD8=",
          "dtype": "f8"
         },
         "yaxis": "y"
        },
        {
         "hovertemplate": "Country=Kuwait<br>Agency_name=%{x}<br>Budget_billion_usd=%{marker.size}<extra></extra>",
         "legendgroup": "Kuwait",
         "marker": {
          "color": "#19d3f3",
          "size": {
           "bdata": "exSuR+F6lD8=",
           "dtype": "f8"
          },
          "sizemode": "area",
          "sizeref": 0.063,
          "symbol": "circle"
         },
         "mode": "markers",
         "name": "Kuwait",
         "orientation": "v",
         "showlegend": true,
         "type": "scatter",
         "x": [
          "Kuwait Space Program"
         ],
         "xaxis": "x",
         "y": {
          "bdata": "exSuR+F6lD8=",
          "dtype": "f8"
         },
         "yaxis": "y"
        },
        {
         "hovertemplate": "Country=South Sudan<br>Agency_name=%{x}<br>Budget_billion_usd=%{marker.size}<extra></extra>",
         "legendgroup": "South Sudan",
         "marker": {
          "color": "#FF6692",
          "size": {
           "bdata": "exSuR+F6hD8=",
           "dtype": "f8"
          },
          "sizemode": "area",
          "sizeref": 0.063,
          "symbol": "circle"
         },
         "mode": "markers",
         "name": "South Sudan",
         "orientation": "v",
         "showlegend": true,
         "type": "scatter",
         "x": [
          "South Sudan Space Initiative"
         ],
         "xaxis": "x",
         "y": {
          "bdata": "exSuR+F6hD8=",
          "dtype": "f8"
         },
         "yaxis": "y"
        }
       ],
       "layout": {
        "legend": {
         "itemsizing": "constant",
         "title": {
          "text": "Country"
         },
         "tracegroupgap": 0
        },
        "margin": {
         "t": 60
        },
        "template": {
         "data": {
          "bar": [
           {
            "error_x": {
             "color": "#2a3f5f"
            },
            "error_y": {
             "color": "#2a3f5f"
            },
            "marker": {
             "line": {
              "color": "#E5ECF6",
              "width": 0.5
             },
             "pattern": {
              "fillmode": "overlay",
              "size": 10,
              "solidity": 0.2
             }
            },
            "type": "bar"
           }
          ],
          "barpolar": [
           {
            "marker": {
             "line": {
              "color": "#E5ECF6",
              "width": 0.5
             },
             "pattern": {
              "fillmode": "overlay",
              "size": 10,
              "solidity": 0.2
             }
            },
            "type": "barpolar"
           }
          ],
          "carpet": [
           {
            "aaxis": {
             "endlinecolor": "#2a3f5f",
             "gridcolor": "white",
             "linecolor": "white",
             "minorgridcolor": "white",
             "startlinecolor": "#2a3f5f"
            },
            "baxis": {
             "endlinecolor": "#2a3f5f",
             "gridcolor": "white",
             "linecolor": "white",
             "minorgridcolor": "white",
             "startlinecolor": "#2a3f5f"
            },
            "type": "carpet"
           }
          ],
          "choropleth": [
           {
            "colorbar": {
             "outlinewidth": 0,
             "ticks": ""
            },
            "type": "choropleth"
           }
          ],
          "contour": [
           {
            "colorbar": {
             "outlinewidth": 0,
             "ticks": ""
            },
            "colorscale": [
             [
              0,
              "#0d0887"
             ],
             [
              0.1111111111111111,
              "#46039f"
             ],
             [
              0.2222222222222222,
              "#7201a8"
             ],
             [
              0.3333333333333333,
              "#9c179e"
             ],
             [
              0.4444444444444444,
              "#bd3786"
             ],
             [
              0.5555555555555556,
              "#d8576b"
             ],
             [
              0.6666666666666666,
              "#ed7953"
             ],
             [
              0.7777777777777778,
              "#fb9f3a"
             ],
             [
              0.8888888888888888,
              "#fdca26"
             ],
             [
              1,
              "#f0f921"
             ]
            ],
            "type": "contour"
           }
          ],
          "contourcarpet": [
           {
            "colorbar": {
             "outlinewidth": 0,
             "ticks": ""
            },
            "type": "contourcarpet"
           }
          ],
          "heatmap": [
           {
            "colorbar": {
             "outlinewidth": 0,
             "ticks": ""
            },
            "colorscale": [
             [
              0,
              "#0d0887"
             ],
             [
              0.1111111111111111,
              "#46039f"
             ],
             [
              0.2222222222222222,
              "#7201a8"
             ],
             [
              0.3333333333333333,
              "#9c179e"
             ],
             [
              0.4444444444444444,
              "#bd3786"
             ],
             [
              0.5555555555555556,
              "#d8576b"
             ],
             [
              0.6666666666666666,
              "#ed7953"
             ],
             [
              0.7777777777777778,
              "#fb9f3a"
             ],
             [
              0.8888888888888888,
              "#fdca26"
             ],
             [
              1,
              "#f0f921"
             ]
            ],
            "type": "heatmap"
           }
          ],
          "histogram": [
           {
            "marker": {
             "pattern": {
              "fillmode": "overlay",
              "size": 10,
              "solidity": 0.2
             }
            },
            "type": "histogram"
           }
          ],
          "histogram2d": [
           {
            "colorbar": {
             "outlinewidth": 0,
             "ticks": ""
            },
            "colorscale": [
             [
              0,
              "#0d0887"
             ],
             [
              0.1111111111111111,
              "#46039f"
             ],
             [
              0.2222222222222222,
              "#7201a8"
             ],
             [
              0.3333333333333333,
              "#9c179e"
             ],
             [
              0.4444444444444444,
              "#bd3786"
             ],
             [
              0.5555555555555556,
              "#d8576b"
             ],
             [
              0.6666666666666666,
              "#ed7953"
             ],
             [
              0.7777777777777778,
              "#fb9f3a"
             ],
             [
              0.8888888888888888,
              "#fdca26"
             ],
             [
              1,
              "#f0f921"
             ]
            ],
            "type": "histogram2d"
           }
          ],
          "histogram2dcontour": [
           {
            "colorbar": {
             "outlinewidth": 0,
             "ticks": ""
            },
            "colorscale": [
             [
              0,
              "#0d0887"
             ],
             [
              0.1111111111111111,
              "#46039f"
             ],
             [
              0.2222222222222222,
              "#7201a8"
             ],
             [
              0.3333333333333333,
              "#9c179e"
             ],
             [
              0.4444444444444444,
              "#bd3786"
             ],
             [
              0.5555555555555556,
              "#d8576b"
             ],
             [
              0.6666666666666666,
              "#ed7953"
             ],
             [
              0.7777777777777778,
              "#fb9f3a"
             ],
             [
              0.8888888888888888,
              "#fdca26"
             ],
             [
              1,
              "#f0f921"
             ]
            ],
            "type": "histogram2dcontour"
           }
          ],
          "mesh3d": [
           {
            "colorbar": {
             "outlinewidth": 0,
             "ticks": ""
            },
            "type": "mesh3d"
           }
          ],
          "parcoords": [
           {
            "line": {
             "colorbar": {
              "outlinewidth": 0,
              "ticks": ""
             }
            },
            "type": "parcoords"
           }
          ],
          "pie": [
           {
            "automargin": true,
            "type": "pie"
           }
          ],
          "scatter": [
           {
            "fillpattern": {
             "fillmode": "overlay",
             "size": 10,
             "solidity": 0.2
            },
            "type": "scatter"
           }
          ],
          "scatter3d": [
           {
            "line": {
             "colorbar": {
              "outlinewidth": 0,
              "ticks": ""
             }
            },
            "marker": {
             "colorbar": {
              "outlinewidth": 0,
              "ticks": ""
             }
            },
            "type": "scatter3d"
           }
          ],
          "scattercarpet": [
           {
            "marker": {
             "colorbar": {
              "outlinewidth": 0,
              "ticks": ""
             }
            },
            "type": "scattercarpet"
           }
          ],
          "scattergeo": [
           {
            "marker": {
             "colorbar": {
              "outlinewidth": 0,
              "ticks": ""
             }
            },
            "type": "scattergeo"
           }
          ],
          "scattergl": [
           {
            "marker": {
             "colorbar": {
              "outlinewidth": 0,
              "ticks": ""
             }
            },
            "type": "scattergl"
           }
          ],
          "scattermap": [
           {
            "marker": {
             "colorbar": {
              "outlinewidth": 0,
              "ticks": ""
             }
            },
            "type": "scattermap"
           }
          ],
          "scattermapbox": [
           {
            "marker": {
             "colorbar": {
              "outlinewidth": 0,
              "ticks": ""
             }
            },
            "type": "scattermapbox"
           }
          ],
          "scatterpolar": [
           {
            "marker": {
             "colorbar": {
              "outlinewidth": 0,
              "ticks": ""
             }
            },
            "type": "scatterpolar"
           }
          ],
          "scatterpolargl": [
           {
            "marker": {
             "colorbar": {
              "outlinewidth": 0,
              "ticks": ""
             }
            },
            "type": "scatterpolargl"
           }
          ],
          "scatterternary": [
           {
            "marker": {
             "colorbar": {
              "outlinewidth": 0,
              "ticks": ""
             }
            },
            "type": "scatterternary"
           }
          ],
          "surface": [
           {
            "colorbar": {
             "outlinewidth": 0,
             "ticks": ""
            },
            "colorscale": [
             [
              0,
              "#0d0887"
             ],
             [
              0.1111111111111111,
              "#46039f"
             ],
             [
              0.2222222222222222,
              "#7201a8"
             ],
             [
              0.3333333333333333,
              "#9c179e"
             ],
             [
              0.4444444444444444,
              "#bd3786"
             ],
             [
              0.5555555555555556,
              "#d8576b"
             ],
             [
              0.6666666666666666,
              "#ed7953"
             ],
             [
              0.7777777777777778,
              "#fb9f3a"
             ],
             [
              0.8888888888888888,
              "#fdca26"
             ],
             [
              1,
              "#f0f921"
             ]
            ],
            "type": "surface"
           }
          ],
          "table": [
           {
            "cells": {
             "fill": {
              "color": "#EBF0F8"
             },
             "line": {
              "color": "white"
             }
            },
            "header": {
             "fill": {
              "color": "#C8D4E3"
             },
             "line": {
              "color": "white"
             }
            },
            "type": "table"
           }
          ]
         },
         "layout": {
          "annotationdefaults": {
           "arrowcolor": "#2a3f5f",
           "arrowhead": 0,
           "arrowwidth": 1
          },
          "autotypenumbers": "strict",
          "coloraxis": {
           "colorbar": {
            "outlinewidth": 0,
            "ticks": ""
           }
          },
          "colorscale": {
           "diverging": [
            [
             0,
             "#8e0152"
            ],
            [
             0.1,
             "#c51b7d"
            ],
            [
             0.2,
             "#de77ae"
            ],
            [
             0.3,
             "#f1b6da"
            ],
            [
             0.4,
             "#fde0ef"
            ],
            [
             0.5,
             "#f7f7f7"
            ],
            [
             0.6,
             "#e6f5d0"
            ],
            [
             0.7,
             "#b8e186"
            ],
            [
             0.8,
             "#7fbc41"
            ],
            [
             0.9,
             "#4d9221"
            ],
            [
             1,
             "#276419"
            ]
           ],
           "sequential": [
            [
             0,
             "#0d0887"
            ],
            [
             0.1111111111111111,
             "#46039f"
            ],
            [
             0.2222222222222222,
             "#7201a8"
            ],
            [
             0.3333333333333333,
             "#9c179e"
            ],
            [
             0.4444444444444444,
             "#bd3786"
            ],
            [
             0.5555555555555556,
             "#d8576b"
            ],
            [
             0.6666666666666666,
             "#ed7953"
            ],
            [
             0.7777777777777778,
             "#fb9f3a"
            ],
            [
             0.8888888888888888,
             "#fdca26"
            ],
            [
             1,
             "#f0f921"
            ]
           ],
           "sequentialminus": [
            [
             0,
             "#0d0887"
            ],
            [
             0.1111111111111111,
             "#46039f"
            ],
            [
             0.2222222222222222,
             "#7201a8"
            ],
            [
             0.3333333333333333,
             "#9c179e"
            ],
            [
             0.4444444444444444,
             "#bd3786"
            ],
            [
             0.5555555555555556,
             "#d8576b"
            ],
            [
             0.6666666666666666,
             "#ed7953"
            ],
            [
             0.7777777777777778,
             "#fb9f3a"
            ],
            [
             0.8888888888888888,
             "#fdca26"
            ],
            [
             1,
             "#f0f921"
            ]
           ]
          },
          "colorway": [
           "#636efa",
           "#EF553B",
           "#00cc96",
           "#ab63fa",
           "#FFA15A",
           "#19d3f3",
           "#FF6692",
           "#B6E880",
           "#FF97FF",
           "#FECB52"
          ],
          "font": {
           "color": "#2a3f5f"
          },
          "geo": {
           "bgcolor": "white",
           "lakecolor": "white",
           "landcolor": "#E5ECF6",
           "showlakes": true,
           "showland": true,
           "subunitcolor": "white"
          },
          "hoverlabel": {
           "align": "left"
          },
          "hovermode": "closest",
          "mapbox": {
           "style": "light"
          },
          "paper_bgcolor": "white",
          "plot_bgcolor": "#E5ECF6",
          "polar": {
           "angularaxis": {
            "gridcolor": "white",
            "linecolor": "white",
            "ticks": ""
           },
           "bgcolor": "#E5ECF6",
           "radialaxis": {
            "gridcolor": "white",
            "linecolor": "white",
            "ticks": ""
           }
          },
          "scene": {
           "xaxis": {
            "backgroundcolor": "#E5ECF6",
            "gridcolor": "white",
            "gridwidth": 2,
            "linecolor": "white",
            "showbackground": true,
            "ticks": "",
            "zerolinecolor": "white"
           },
           "yaxis": {
            "backgroundcolor": "#E5ECF6",
            "gridcolor": "white",
            "gridwidth": 2,
            "linecolor": "white",
            "showbackground": true,
            "ticks": "",
            "zerolinecolor": "white"
           },
           "zaxis": {
            "backgroundcolor": "#E5ECF6",
            "gridcolor": "white",
            "gridwidth": 2,
            "linecolor": "white",
            "showbackground": true,
            "ticks": "",
            "zerolinecolor": "white"
           }
          },
          "shapedefaults": {
           "line": {
            "color": "#2a3f5f"
           }
          },
          "ternary": {
           "aaxis": {
            "gridcolor": "white",
            "linecolor": "white",
            "ticks": ""
           },
           "baxis": {
            "gridcolor": "white",
            "linecolor": "white",
            "ticks": ""
           },
           "bgcolor": "#E5ECF6",
           "caxis": {
            "gridcolor": "white",
            "linecolor": "white",
            "ticks": ""
           }
          },
          "title": {
           "x": 0.05
          },
          "xaxis": {
           "automargin": true,
           "gridcolor": "white",
           "linecolor": "white",
           "ticks": "",
           "title": {
            "standoff": 15
           },
           "zerolinecolor": "white",
           "zerolinewidth": 2
          },
          "yaxis": {
           "automargin": true,
           "gridcolor": "white",
           "linecolor": "white",
           "ticks": "",
           "title": {
            "standoff": 15
           },
           "zerolinecolor": "white",
           "zerolinewidth": 2
          }
         }
        },
        "xaxis": {
         "anchor": "y",
         "domain": [
          0,
          1
         ],
         "title": {
          "text": "Agency_name"
         }
        },
        "yaxis": {
         "anchor": "x",
         "domain": [
          0,
          1
         ],
         "title": {
          "text": "Budget_billion_usd"
         }
        }
       }
      }
     },
     "metadata": {},
     "output_type": "display_data"
    }
   ],
   "source": [
    "fig = px.scatter(\n",
    "    agencies,\n",
    "    x=\"Agency_name\",\n",
    "    y=\"Budget_billion_usd\",\n",
    "    size=\"Budget_billion_usd\",\n",
    "    color=\"Country\",\n",
    "\n",
    ")\n",
    "fig.show()\n"
   ]
  },
  {
   "cell_type": "code",
   "execution_count": null,
   "id": "a208b740",
   "metadata": {},
   "outputs": [],
   "source": []
  }
 ],
 "metadata": {
  "kernelspec": {
   "display_name": "base",
   "language": "python",
   "name": "python3"
  },
  "language_info": {
   "codemirror_mode": {
    "name": "ipython",
    "version": 3
   },
   "file_extension": ".py",
   "mimetype": "text/x-python",
   "name": "python",
   "nbconvert_exporter": "python",
   "pygments_lexer": "ipython3",
   "version": "3.12.7"
  }
 },
 "nbformat": 4,
 "nbformat_minor": 5
}
